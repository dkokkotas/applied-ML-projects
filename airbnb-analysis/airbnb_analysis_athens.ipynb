{
 "cells": [
  {
   "cell_type": "markdown",
   "id": "eeaf8e8d",
   "metadata": {},
   "source": [
    "# AirBnB in Athens : How does it influence our city?\n",
    "\n",
    "---\n",
    "\n",
    "> Dimitrios Kokkotas, 8200076 <br />\n",
    "> Dept of Management Science and Technology <br />\n",
    "> Athens University of Economics and Business <br />\n",
    "> dtmkokkotas@gmail.com"
   ]
  },
  {
   "cell_type": "markdown",
   "id": "baf8bf5f",
   "metadata": {},
   "source": [
    "* The current notebook performs an in depth analysis on AirBnB Athens data\n",
    "* Tha data are collected by [Inside AirBnB](http://insideairbnb.com)\n",
    "* You may visit Inside AirBnB's **data dictionary**, that provides an overview of the data structure and characterisitics\n",
    "* Assumptions regarding the data used, can be found here: [Data Assumptions](http://insideairbnb.com/data-assumptions)\n",
    "* Our core libraries : [pandas](https://pandas.pydata.org/) for our analysis and [matplotlib](https://matplotlib.org/) for visualizations"
   ]
  },
  {
   "cell_type": "markdown",
   "id": "69738c5a",
   "metadata": {},
   "source": [
    "## Importing the needed packages\n",
    "<br>\n",
    "At first, we import several libraries, with them serving analysis, visualization and statistics models' estimation needs"
   ]
  },
  {
   "cell_type": "code",
   "execution_count": null,
   "id": "19b806bc",
   "metadata": {},
   "outputs": [],
   "source": [
    "import folium\n",
    "import pandas as pd\n",
    "import numpy as np\n",
    "import matplotlib.pyplot as plt\n",
    "from scipy.stats import spearmanr\n",
    "from folium.plugins import MarkerCluster"
   ]
  },
  {
   "cell_type": "markdown",
   "id": "b39d5136",
   "metadata": {},
   "source": [
    "<br>\n",
    "As we are working with a large number of columns within the dataframes, we may need to fully inspect them without truncation.\n",
    "<br><br>"
   ]
  },
  {
   "cell_type": "code",
   "execution_count": null,
   "id": "24e515a2",
   "metadata": {},
   "outputs": [],
   "source": [
    "pd.set_option('display.max_columns', None)"
   ]
  },
  {
   "cell_type": "markdown",
   "id": "859ca9d5",
   "metadata": {},
   "source": [
    "## Reading our data\n",
    "<br>\n",
    "Our next step is to obtain several useful CSV files, fetched from our [source](http://insideairbnb.com/get-the-data), and place them under the `data` folder. What are the data about?\n",
    "\n",
    "* `listings.csv` : embodies summary information and metrics for listings in Athens \n",
    "* `reviews.csv`  : holds summary review data and listing ID\n",
    "* `calendar.csv`      : provides detailed calendar data \n",
    "* `neighbourhoods.csv`: stores a neighbourhood list for geo filter\n",
    "\n",
    "It's worth mentioning that there are also some corresponding to the listings (`listings-detailed.csv`) and  reviews (`reviews-detailed.csv`) files that hold more detailed information. At the moment, we just use the summary ones for the analysis needs.\n"
   ]
  },
  {
   "cell_type": "markdown",
   "id": "12b76235",
   "metadata": {},
   "source": [
    "We load the CSV files and assign them into DataFrame objects afterwards.\n",
    "<br><br>"
   ]
  },
  {
   "cell_type": "code",
   "execution_count": null,
   "id": "51eef515",
   "metadata": {},
   "outputs": [],
   "source": [
    "listings = pd.read_csv('data/listings.csv')\n",
    "\n",
    "neighbourhoods = pd.read_csv('data/neighbourhoods.csv')\n",
    "\n",
    "# load 'date' column as date and time (by default is set as object type)\n",
    "reviews = pd.read_csv('data/reviews.csv',\n",
    "                     parse_dates=['date'])\n",
    "\n",
    "# load 'date' column as date and time (by default is set as object type)\n",
    "calendar = pd.read_csv('data/calendar.csv',\n",
    "                      parse_dates=['date'])"
   ]
  },
  {
   "cell_type": "markdown",
   "id": "f814e0d2",
   "metadata": {},
   "source": [
    "<br>\n",
    "We can now validate that the type of the `calendar.date` and `review.date` is `datetime`.\n",
    "<br><br>"
   ]
  },
  {
   "cell_type": "code",
   "execution_count": null,
   "id": "25a6017c",
   "metadata": {},
   "outputs": [],
   "source": [
    "calendar.dtypes['date']"
   ]
  },
  {
   "cell_type": "code",
   "execution_count": null,
   "id": "606c502f",
   "metadata": {},
   "outputs": [],
   "source": [
    "reviews.dtypes['date']"
   ]
  },
  {
   "cell_type": "markdown",
   "id": "e7227c28",
   "metadata": {},
   "source": [
    "<br>\n",
    "Gaining familiarity with the dataframes, we may overview our data via useful methods provided by pandas.\n",
    "<br><br>"
   ]
  },
  {
   "cell_type": "code",
   "execution_count": null,
   "id": "885cebad",
   "metadata": {},
   "outputs": [],
   "source": [
    "listings.head(2)"
   ]
  },
  {
   "cell_type": "code",
   "execution_count": null,
   "id": "0d8e5fd8",
   "metadata": {},
   "outputs": [],
   "source": [
    "calendar.tail(2)"
   ]
  },
  {
   "cell_type": "code",
   "execution_count": null,
   "id": "0aed4b6f",
   "metadata": {},
   "outputs": [],
   "source": [
    "neighbourhoods.shape"
   ]
  },
  {
   "cell_type": "code",
   "execution_count": null,
   "id": "554bc04b",
   "metadata": {},
   "outputs": [],
   "source": [
    "calendar.info()"
   ]
  },
  {
   "cell_type": "markdown",
   "id": "6161c429",
   "metadata": {},
   "source": [
    "<br>And many many more....."
   ]
  },
  {
   "cell_type": "markdown",
   "id": "fcfd308e",
   "metadata": {},
   "source": [
    "\n",
    "\n",
    "## Examining the popularity of Athens' neighbourhoods\n"
   ]
  },
  {
   "cell_type": "markdown",
   "id": "c7b5a360",
   "metadata": {},
   "source": [
    "To answer the question, we need to define those metrics, that properly estimate and assess the popularity of each neighbourhood. Inspecting the data filled in the `listing` dataframe, we collect two metrics, that seem representative for that purpose:\n",
    "\n",
    "* number of listings per neighbourhood\n",
    "* number of reviews  per neighbourhood"
   ]
  },
  {
   "cell_type": "markdown",
   "id": "1025c5d4",
   "metadata": {},
   "source": [
    "But first things first. Before calculating the above metrics, we shall group pur data by the neighbourhoods.<br><br>\n",
    "Essentially, a `groupby` operation involves the combination of *splitting the object*, *applying a function* and finally *combining the results*.<br>"
   ]
  },
  {
   "cell_type": "code",
   "execution_count": null,
   "id": "d041a75c",
   "metadata": {},
   "outputs": [],
   "source": [
    "neighbourhood_grp = listings.groupby(['neighbourhood'])"
   ]
  },
  {
   "cell_type": "markdown",
   "id": "c99c2d1c",
   "metadata": {},
   "source": [
    "<br>\n",
    "Now, for each and every neighbourhood, we can show the number of listings and reviews, sorted in a descending order. The higher the neighbourhood ranks, the more popular it is.\n",
    "<br><br>"
   ]
  },
  {
   "cell_type": "code",
   "execution_count": null,
   "id": "551cb982",
   "metadata": {},
   "outputs": [],
   "source": [
    "# both of the following return a Series data structure\n",
    "\n",
    "num_of_listings = neighbourhood_grp.size().sort_values(ascending=False) # count number of elements in each group\n",
    "\n",
    "num_of_reviews = neighbourhood_grp['number_of_reviews'].sum().sort_values(ascending=False)"
   ]
  },
  {
   "cell_type": "code",
   "execution_count": null,
   "id": "71d4228d",
   "metadata": {},
   "outputs": [],
   "source": [
    "num_of_listings"
   ]
  },
  {
   "cell_type": "code",
   "execution_count": null,
   "id": "48249857",
   "metadata": {},
   "outputs": [],
   "source": [
    "num_of_reviews"
   ]
  },
  {
   "cell_type": "markdown",
   "id": "f7ca9307",
   "metadata": {},
   "source": [
    "<br>\n",
    "Based on the above results, we understand that the two metrics depict rankings with **strong similarity**, but also show some **minor differencies**<br>\n",
    "(see `ΑΓΙΟΣ ΚΩΝΣΤΑΝΤΙΝΟΣ-ΠΛΑΤΕΙΑ ΒΑΘΗΣ` neighbourhood).\n",
    "\n",
    "Extending our analysis and deelving into the similarity rate of the results, that each metric delivered, we make use of the *Spearman's Correlation Coefficient* method to determine the association between them.\n",
    "<br>"
   ]
  },
  {
   "cell_type": "code",
   "execution_count": null,
   "id": "674cac01",
   "metadata": {},
   "outputs": [],
   "source": [
    "print('Spearman', spearmanr(num_of_listings, num_of_reviews)) # print correlation coefficient and p_value"
   ]
  },
  {
   "cell_type": "markdown",
   "id": "e518c50b",
   "metadata": {},
   "source": [
    "So, evaluating the results:\n",
    "\n",
    "* **statistic is very close to 1** : there is a very strong positive monotonic relationship between the two series\n",
    "\n",
    "* **p-value is very close to 0** : the correlation is highly statistically significant and the association is unlikely to be due to random chance."
   ]
  },
  {
   "cell_type": "markdown",
   "id": "70e75258",
   "metadata": {},
   "source": [
    "All in all, both:\n",
    "* results' observation and\n",
    "* statistics' estimation,<br>\n",
    "\n",
    "tend to demonstrate a high score of similarity between the two rankings"
   ]
  },
  {
   "cell_type": "markdown",
   "id": "3448053e",
   "metadata": {},
   "source": [
    "## Time for some descriptives"
   ]
  },
  {
   "cell_type": "markdown",
   "id": "4c0ca5b2",
   "metadata": {},
   "source": [
    "We are asked to create a table with the prices per neighbourhood. The prices information should contain:\n",
    "\n",
    "* median price per neighbourhood\n",
    "* mean price per neighbourhood\n",
    "* standard deviation per neighbourhood\n",
    "* number of listings per neighbourhood"
   ]
  },
  {
   "cell_type": "markdown",
   "id": "f0d2ec31",
   "metadata": {},
   "source": [
    "Firstly, we make use of the existing `neighbourhood_grp` (*GroupBy* object), which holds a collection of data split into Athen's neighbourhood groups. \n",
    "<br><br>\n",
    "How are the requested descriptives calculated?\n",
    "<br><br>\n",
    "By performing some aggregation functions on each group, and assign the results to a table."
   ]
  },
  {
   "cell_type": "code",
   "execution_count": null,
   "id": "c0353a8d",
   "metadata": {},
   "outputs": [],
   "source": [
    "descriptives = neighbourhood_grp['price'].agg(['median', 'mean', 'std', 'size'])"
   ]
  },
  {
   "cell_type": "markdown",
   "id": "4274f78a",
   "metadata": {},
   "source": [
    "As requested, we sort the contents of the table in descending order by the `median` statistical measure."
   ]
  },
  {
   "cell_type": "code",
   "execution_count": null,
   "id": "89acd285",
   "metadata": {},
   "outputs": [],
   "source": [
    "descriptives = descriptives.sort_values(by='median', ascending=False)"
   ]
  },
  {
   "cell_type": "markdown",
   "id": "85dc74c1",
   "metadata": {},
   "source": [
    "Following up on the sorting operation, we make some final adjustments."
   ]
  },
  {
   "cell_type": "code",
   "execution_count": null,
   "id": "a0b39cb3",
   "metadata": {},
   "outputs": [],
   "source": [
    "descriptives = descriptives.reset_index()"
   ]
  },
  {
   "cell_type": "code",
   "execution_count": null,
   "id": "18119379",
   "metadata": {},
   "outputs": [],
   "source": [
    "descriptives"
   ]
  },
  {
   "cell_type": "markdown",
   "id": "074aaa9e",
   "metadata": {},
   "source": [
    "## Visualizing the availability of listings per day"
   ]
  },
  {
   "cell_type": "markdown",
   "id": "da79330b",
   "metadata": {},
   "source": [
    "We are asked to create a plot with the number of listings available per day, on the $y$ axis, and the date, on the $x$ axis."
   ]
  },
  {
   "cell_type": "markdown",
   "id": "82b7b782",
   "metadata": {},
   "source": [
    "We are working on the `calendar` dataframe, which holds the data in reference to the listings, dates, and availabilities. \n",
    "<br><br>\n",
    "Let's show some indicative rows, in order to get familiar with the structure. \n",
    "<br>"
   ]
  },
  {
   "cell_type": "code",
   "execution_count": null,
   "id": "0c7c8e88",
   "metadata": {},
   "outputs": [],
   "source": [
    "calendar.head(2)"
   ]
  },
  {
   "cell_type": "markdown",
   "id": "f6291342",
   "metadata": {},
   "source": [
    "<br>\n",
    "Since we are looking for availability, we need to filter out each and every occurrence of listings with no availability (`available ='f'`). \n",
    "<br><br>\n",
    "That being the case, we assign the filtered dataframe to a new one called  `calendar_is_available`.\n",
    "<br><br>"
   ]
  },
  {
   "cell_type": "code",
   "execution_count": null,
   "id": "efe2c5dd",
   "metadata": {},
   "outputs": [],
   "source": [
    "calendar_is_available = calendar[(calendar['available'] == 't')]"
   ]
  },
  {
   "cell_type": "markdown",
   "id": "a45eeb62",
   "metadata": {},
   "source": [
    "<br>\n",
    "Later, we group the data of the updated dataframe by date, so we can eventually count the number of listings available for each day.\n",
    "<br><br>"
   ]
  },
  {
   "cell_type": "code",
   "execution_count": null,
   "id": "16f97210",
   "metadata": {},
   "outputs": [],
   "source": [
    "date_grp = calendar_is_available.groupby(['date'])"
   ]
  },
  {
   "cell_type": "code",
   "execution_count": null,
   "id": "50f9e284",
   "metadata": {},
   "outputs": [],
   "source": [
    "available_per_day = date_grp['listing_id'].count()"
   ]
  },
  {
   "cell_type": "code",
   "execution_count": null,
   "id": "e6399199",
   "metadata": {},
   "outputs": [],
   "source": [
    "available_per_day # the values on the y-axis of the plot"
   ]
  },
  {
   "cell_type": "markdown",
   "id": "079bebcf",
   "metadata": {},
   "source": [
    "<br>\n",
    "Using the existing index of the `available_per_day` Series, we assign the unique identifiers to a new Series collection, called `dates`.\n",
    "<br><br>"
   ]
  },
  {
   "cell_type": "code",
   "execution_count": null,
   "id": "f259fce1",
   "metadata": {},
   "outputs": [],
   "source": [
    "dates = available_per_day.index"
   ]
  },
  {
   "cell_type": "code",
   "execution_count": null,
   "id": "da6d5078",
   "metadata": {},
   "outputs": [],
   "source": [
    "dates # the values on the x-axis of the plot"
   ]
  },
  {
   "cell_type": "markdown",
   "id": "2296ca9e",
   "metadata": {},
   "source": [
    "<br><br>\n",
    "Now we are ready to visualize our data.\n",
    "<br><br>"
   ]
  },
  {
   "cell_type": "code",
   "execution_count": null,
   "id": "381be543",
   "metadata": {},
   "outputs": [],
   "source": [
    "plt.style.use('seaborn-v0_8')\n",
    "\n",
    "plt.plot_date(dates, available_per_day, linestyle='solid') # draw a line plot of data points with dates\n",
    "\n",
    "plt.gcf().autofmt_xdate() # make sure that the dates in x-axis are not overcrowded and ensure readability\n",
    "\n",
    "plt.title('Availability of Listings Across Time')\n",
    "plt.xlabel('Date')\n",
    "plt.ylabel('Number of Available Listings ')\n",
    "\n",
    "plt.tight_layout()\n",
    "\n",
    "plt.show()"
   ]
  },
  {
   "cell_type": "markdown",
   "id": "846ef6d3",
   "metadata": {},
   "source": [
    "## Reviews, Occupacy per Listing, Average Income"
   ]
  },
  {
   "cell_type": "markdown",
   "id": "112a6de2",
   "metadata": {},
   "source": [
    "We are asked to create a histogram, visualizing the number of reviews per listing.<br><br>We will collect data from the `listings` dataframe, as both the `id` of the listing and it's `number of reviews`, are recorded there.<br>"
   ]
  },
  {
   "cell_type": "markdown",
   "id": "a493be1c",
   "metadata": {},
   "source": [
    "We can validate that within the `listings` dataframes, the column `id` contains unique values."
   ]
  },
  {
   "cell_type": "code",
   "execution_count": null,
   "id": "456b4b7e",
   "metadata": {},
   "outputs": [],
   "source": [
    "listings.id.nunique() == len(listings.id)"
   ]
  },
  {
   "cell_type": "markdown",
   "id": "ac058050",
   "metadata": {},
   "source": [
    "<br>\n",
    "Given the above statement, there is no need for grouping the data by the listing id, and we can find the number of reviews per listing:\n",
    "<br><br>"
   ]
  },
  {
   "cell_type": "code",
   "execution_count": null,
   "id": "3447e481",
   "metadata": {},
   "outputs": [],
   "source": [
    "reviews_per_listing = listings['number_of_reviews'] # returns a Series containing the num of reviews for each listing"
   ]
  },
  {
   "cell_type": "code",
   "execution_count": null,
   "id": "0335a9e0",
   "metadata": {
    "scrolled": true
   },
   "outputs": [],
   "source": [
    "reviews_per_listing # each value will be 'binned'"
   ]
  },
  {
   "cell_type": "markdown",
   "id": "86bdf803",
   "metadata": {},
   "source": [
    "<br>\n",
    "As declared, the histogram should bin the number of reviews, from the smallest amount of reviews in a listing, to the maximum number of reviews in a listing rounded up to the closest hundred.\n",
    "<br><br>\n",
    "So we need to calculate some metrics, in order to determine the bins' characteristics:\n",
    "\n",
    "* We shall find the `min`number of reviews "
   ]
  },
  {
   "cell_type": "code",
   "execution_count": null,
   "id": "0e880c12",
   "metadata": {},
   "outputs": [],
   "source": [
    "min_reviews = listings['number_of_reviews'].min()"
   ]
  },
  {
   "cell_type": "markdown",
   "id": "b67aceb4",
   "metadata": {},
   "source": [
    "* We shall find the `max` number of reviews rounded up to the closest hundred"
   ]
  },
  {
   "cell_type": "code",
   "execution_count": null,
   "id": "4637a281",
   "metadata": {},
   "outputs": [],
   "source": [
    "max_reviews = listings['number_of_reviews'].max()"
   ]
  },
  {
   "cell_type": "code",
   "execution_count": null,
   "id": "dddb24a7",
   "metadata": {},
   "outputs": [],
   "source": [
    "max_reviews"
   ]
  },
  {
   "cell_type": "markdown",
   "id": "9a573e70",
   "metadata": {},
   "source": [
    "<br>\n",
    "We are going to use the `ceil()` method provided by NumPy to round the `max_reviews` up to the closest hundred.\n",
    "<br><br>"
   ]
  },
  {
   "cell_type": "code",
   "execution_count": null,
   "id": "c1f6ca2a",
   "metadata": {},
   "outputs": [],
   "source": [
    "max_reviews_rounded = int(np.ceil(max_reviews / 100) * 100)"
   ]
  },
  {
   "cell_type": "code",
   "execution_count": null,
   "id": "10a6131e",
   "metadata": {},
   "outputs": [],
   "source": [
    "max_reviews_rounded"
   ]
  },
  {
   "cell_type": "markdown",
   "id": "02133a15",
   "metadata": {},
   "source": [
    "<br>\n",
    "By completing the aforementioned steps, we can proceed to the specification of the bins:\n",
    "<br><br>"
   ]
  },
  {
   "cell_type": "code",
   "execution_count": null,
   "id": "dffb909c",
   "metadata": {},
   "outputs": [],
   "source": [
    "bins = np.arange(0, max_reviews_rounded + 100, 100)"
   ]
  },
  {
   "cell_type": "code",
   "execution_count": null,
   "id": "4b454adf",
   "metadata": {},
   "outputs": [],
   "source": [
    "plt.hist(reviews_per_listing, bins=bins, edgecolor='black',color='blue')\n",
    "\n",
    "plt.xlabel('Number of Reviews')\n",
    "plt.ylabel('Number of Listings')\n",
    "plt.title('Number of Reviews per Listing')\n",
    "\n",
    "plt.xticks(np.arange(0, max_reviews_rounded + 100, 100))\n",
    "plt.yticks(np.arange(0, 12000, 1000))\n",
    "\n",
    "plt.tight_layout()\n",
    "\n",
    "plt.show()"
   ]
  },
  {
   "cell_type": "markdown",
   "id": "14cc2590",
   "metadata": {},
   "source": [
    "<br>\n",
    "Moving forward, we need to calculate the average occupacy per listing per month.<br>\n",
    "We will be working on the `reviews` dataframe, which contains a large size of data in reference to the listings and  the reviews' dates.\n",
    "\n",
    "Our timeframe for the calculations of the averages, will be the entire year of 2022, since it's the most recent year containing full information. <br>Thus, we are filtering out outdated rows.\n",
    "<br><br>"
   ]
  },
  {
   "cell_type": "code",
   "execution_count": null,
   "id": "3dfecfcd",
   "metadata": {},
   "outputs": [],
   "source": [
    "reviews_rcnt = reviews[(reviews['date'].dt.year == 2022)]"
   ]
  },
  {
   "cell_type": "markdown",
   "id": "f2df7680",
   "metadata": {},
   "source": [
    "How the data will look like?"
   ]
  },
  {
   "cell_type": "code",
   "execution_count": null,
   "id": "2c1ce852",
   "metadata": {},
   "outputs": [],
   "source": [
    "reviews_rcnt.head(2)"
   ]
  },
  {
   "cell_type": "markdown",
   "id": "1edb27a0",
   "metadata": {},
   "source": [
    "<br>\n",
    "At first, we group our data by the `listing_id`, to proceed with the needed calculations.\n",
    "<br><br>"
   ]
  },
  {
   "cell_type": "code",
   "execution_count": null,
   "id": "f978e0f3",
   "metadata": {},
   "outputs": [],
   "source": [
    "listing_grp = reviews_rcnt.groupby(['listing_id'])"
   ]
  },
  {
   "cell_type": "markdown",
   "id": "9f5ff358",
   "metadata": {},
   "source": [
    "Note : At this point, we assume that half of the bookings result in reviews.<br>\n",
    "In order to calculate the average occupancy per listing per month, we need to compute the following metrics.\n",
    "<br>\n",
    "\n",
    "* the average reviews per listing per month"
   ]
  },
  {
   "cell_type": "code",
   "execution_count": null,
   "id": "62fd2a57",
   "metadata": {},
   "outputs": [],
   "source": [
    "avg_rev_per_month = listing_grp.size() / 12\n",
    "avg_rev_per_month"
   ]
  },
  {
   "cell_type": "markdown",
   "id": "e88c5a0b",
   "metadata": {},
   "source": [
    "* the average bookings per listing per month"
   ]
  },
  {
   "cell_type": "code",
   "execution_count": null,
   "id": "c52884ce",
   "metadata": {},
   "outputs": [],
   "source": [
    "avg_bookings_per_month = avg_rev_per_month * 2\n",
    "avg_bookings_per_month"
   ]
  },
  {
   "cell_type": "markdown",
   "id": "9ee32e2c",
   "metadata": {},
   "source": [
    "* the average occupancy per listing per month<br>\n",
    "<br>This metric is calculated through: the number of average booked days divided by the number of bookable days.\n"
   ]
  },
  {
   "cell_type": "code",
   "execution_count": null,
   "id": "802b5d57",
   "metadata": {},
   "outputs": [],
   "source": [
    "avg_booked_days = avg_bookings_per_month * 3 # since each booking is a three night stay"
   ]
  },
  {
   "cell_type": "code",
   "execution_count": null,
   "id": "ed7bf697",
   "metadata": {},
   "outputs": [],
   "source": [
    "avg_occupancy_per_month = avg_booked_days / 30\n",
    "avg_occupancy_per_month"
   ]
  },
  {
   "cell_type": "markdown",
   "id": "8266397f",
   "metadata": {},
   "source": [
    "<br><br>We are asked to find the average income per month, using the average price charged throughout all listings.\n",
    "<br><br>Since we are talking about income, we shall group our data by the hosts, in order to find the total number of<br> listings for each host as well the average price for his/her listings.\n",
    "<br>"
   ]
  },
  {
   "cell_type": "markdown",
   "id": "004e4cfd",
   "metadata": {},
   "source": [
    "Let's break down the problem: <br>In order to calculate the average income per host per month, we need to multiply the number of average booked days<br>(which we have already calculated as `avg_booked_days`) with the average prices for the host's listings.<br><br>\n",
    "At first, we group our data by the host."
   ]
  },
  {
   "cell_type": "code",
   "execution_count": null,
   "id": "ac126877",
   "metadata": {},
   "outputs": [],
   "source": [
    "host_grp = listings.groupby(['host_id'])"
   ]
  },
  {
   "cell_type": "markdown",
   "id": "7c1f9f93",
   "metadata": {},
   "source": [
    "Then, we perform an aggregation operation upon each hosts' listings' prices."
   ]
  },
  {
   "cell_type": "code",
   "execution_count": null,
   "id": "a9fc04ac",
   "metadata": {},
   "outputs": [],
   "source": [
    "avg_price_per_host = host_grp['price'].mean()"
   ]
  },
  {
   "cell_type": "markdown",
   "id": "66e266c3",
   "metadata": {},
   "source": [
    "At this point, we need for every host to find the average booked days per month for each and every listing owned. The aforementioned information is stored within the `avg_booked_days` Series. <br>"
   ]
  },
  {
   "cell_type": "code",
   "execution_count": null,
   "id": "89892787",
   "metadata": {},
   "outputs": [],
   "source": [
    "avg_booked_days"
   ]
  },
  {
   "cell_type": "markdown",
   "id": "e49087a2",
   "metadata": {},
   "source": [
    "So, we procced to a merging operation, in order to bring the needed data alongside with the `host_id`.\n",
    "<br>\n",
    "Be patient with the long and tedious naming here, but we try to be as descriptive ass possible."
   ]
  },
  {
   "cell_type": "code",
   "execution_count": null,
   "id": "99ac0717",
   "metadata": {},
   "outputs": [],
   "source": [
    "hosts_with_listings = host_grp['id'].value_counts().reset_index()"
   ]
  },
  {
   "cell_type": "code",
   "execution_count": null,
   "id": "395b45b0",
   "metadata": {},
   "outputs": [],
   "source": [
    "hosts_with_listings"
   ]
  },
  {
   "cell_type": "code",
   "execution_count": null,
   "id": "f5393547",
   "metadata": {},
   "outputs": [],
   "source": [
    "listings_with_avg_booked_days = avg_booked_days.reset_index()"
   ]
  },
  {
   "cell_type": "code",
   "execution_count": null,
   "id": "8c74455d",
   "metadata": {},
   "outputs": [],
   "source": [
    "listings_with_avg_booked_days.rename(columns={'listing_id' : 'id', 0 : 'avg_booked_days'}, inplace=True)"
   ]
  },
  {
   "cell_type": "code",
   "execution_count": null,
   "id": "3fc3c8bf",
   "metadata": {},
   "outputs": [],
   "source": [
    "listings_with_avg_booked_days"
   ]
  },
  {
   "cell_type": "code",
   "execution_count": null,
   "id": "4d221a17",
   "metadata": {},
   "outputs": [],
   "source": [
    "hosts_with_avg_booked_days = pd.merge(hosts_with_listings, listings_with_avg_booked_days, on='id')"
   ]
  },
  {
   "cell_type": "code",
   "execution_count": null,
   "id": "689d8b39",
   "metadata": {},
   "outputs": [],
   "source": [
    "hosts_with_avg_booked_days"
   ]
  },
  {
   "cell_type": "code",
   "execution_count": null,
   "id": "94462e6a",
   "metadata": {
    "scrolled": true
   },
   "outputs": [],
   "source": [
    "hosts_with_avg_booked_days.groupby(['host_id'])['avg_booked_days'].sum()"
   ]
  },
  {
   "cell_type": "markdown",
   "id": "235cab6a",
   "metadata": {},
   "source": [
    "<br>\n",
    "It's now time for the multiplication.\n",
    "<br>"
   ]
  },
  {
   "cell_type": "code",
   "execution_count": null,
   "id": "21d8939e",
   "metadata": {},
   "outputs": [],
   "source": [
    "hosts_with_avg_booked_days_and_avg_prices = pd.merge(hosts_with_avg_booked_days, avg_price_per_host, on='host_id')"
   ]
  },
  {
   "cell_type": "code",
   "execution_count": null,
   "id": "2cd4a3a6",
   "metadata": {},
   "outputs": [],
   "source": [
    "hosts_with_avg_booked_days_and_avg_prices"
   ]
  },
  {
   "cell_type": "code",
   "execution_count": null,
   "id": "000c8714",
   "metadata": {
    "scrolled": true
   },
   "outputs": [],
   "source": [
    "result = hosts_with_avg_booked_days_and_avg_prices.groupby('host_id').apply(lambda x: (x['avg_booked_days'] * x['price']).sum()).reset_index(name='result')"
   ]
  },
  {
   "cell_type": "code",
   "execution_count": null,
   "id": "3563ce79",
   "metadata": {},
   "outputs": [],
   "source": [
    "result # the average income per host per month"
   ]
  },
  {
   "cell_type": "markdown",
   "id": "d7522815",
   "metadata": {},
   "source": [
    "## Listings per Room Type"
   ]
  },
  {
   "cell_type": "markdown",
   "id": "c021a526",
   "metadata": {},
   "source": [
    "Moving on, we wish to show the number of listings per room type.\n",
    "<br>\n",
    "That being the case, we need at first to group our data in `listings` dataframe by the `room_type`."
   ]
  },
  {
   "cell_type": "code",
   "execution_count": null,
   "id": "5ecd809e",
   "metadata": {},
   "outputs": [],
   "source": [
    "room_grp = listings.groupby(['room_type'])"
   ]
  },
  {
   "cell_type": "markdown",
   "id": "9e5fae96",
   "metadata": {},
   "source": [
    "<br>\n",
    "We present the number of listings per room type in both:\n",
    "\n",
    "* absolute numbers and"
   ]
  },
  {
   "cell_type": "code",
   "execution_count": null,
   "id": "6a8a88d9",
   "metadata": {},
   "outputs": [],
   "source": [
    "room_grp['id'].count().abs()"
   ]
  },
  {
   "cell_type": "markdown",
   "id": "e79ee530",
   "metadata": {},
   "source": [
    "* percentages"
   ]
  },
  {
   "cell_type": "code",
   "execution_count": null,
   "id": "8036f3ed",
   "metadata": {},
   "outputs": [],
   "source": [
    "(room_grp['id'].count() / len(listings.id)) * 100"
   ]
  },
  {
   "cell_type": "markdown",
   "id": "9b804e4a",
   "metadata": {},
   "source": [
    "<br>\n",
    "Furthermore, we need to show the number of listings per neighrbourhood and room type.\n",
    "<br><br>"
   ]
  },
  {
   "cell_type": "code",
   "execution_count": null,
   "id": "bf01415f",
   "metadata": {},
   "outputs": [],
   "source": [
    "neighbour_room_grp = listings.groupby(['neighbourhood', 'room_type'])"
   ]
  },
  {
   "cell_type": "code",
   "execution_count": null,
   "id": "419778f6",
   "metadata": {},
   "outputs": [],
   "source": [
    "neighbour_room_grp['id'].count()"
   ]
  },
  {
   "cell_type": "markdown",
   "id": "aa6694d3",
   "metadata": {},
   "source": [
    "## Prices per Day\n",
    "\n"
   ]
  },
  {
   "cell_type": "markdown",
   "id": "2b170d66",
   "metadata": {},
   "source": [
    "We are asked to create a table with the average price per listing per day.<br>\n",
    "While working on the `calendar`dataframe we observe that the prices are not registered in a numeric type, but the type of them is object.<br> So, we proceed to the necessary data casting operations."
   ]
  },
  {
   "cell_type": "code",
   "execution_count": null,
   "id": "a4e9468e",
   "metadata": {},
   "outputs": [],
   "source": [
    "calendar['price'] = calendar['price'].str.replace('$', '').str.replace(',', '').astype(float)"
   ]
  },
  {
   "cell_type": "markdown",
   "id": "b99fac09",
   "metadata": {},
   "source": [
    "<br>\n",
    "Moving on, we group our data by the id of the listings, and then assign the average prices to a table\n",
    "<br><br>"
   ]
  },
  {
   "cell_type": "code",
   "execution_count": null,
   "id": "91f724a9",
   "metadata": {},
   "outputs": [],
   "source": [
    "listing_groups = calendar.groupby(['listing_id'])"
   ]
  },
  {
   "cell_type": "code",
   "execution_count": null,
   "id": "27d1c761",
   "metadata": {},
   "outputs": [],
   "source": [
    "avg_prices_per_day = listing_groups['price'].mean() # since each listing stores values for 365 days"
   ]
  },
  {
   "cell_type": "code",
   "execution_count": null,
   "id": "4ee8cf86",
   "metadata": {},
   "outputs": [],
   "source": [
    "avg_prices_per_day"
   ]
  },
  {
   "cell_type": "markdown",
   "id": "1143569d",
   "metadata": {},
   "source": [
    "<br><br>\n",
    "It's time for visualization. We demonstrate  the distribution of the listings into the different average (per day) price ranges, via a histogram diagram.\n",
    "<br><br>"
   ]
  },
  {
   "cell_type": "code",
   "execution_count": null,
   "id": "591d3ffe",
   "metadata": {},
   "outputs": [],
   "source": [
    "plt.hist(avg_prices_per_day, bins=[0, 50, 100, 150, 200, 250], edgecolor='black', color='skyblue')\n",
    "plt.title('Price Distribution')\n",
    "plt.xlabel('Price Range')\n",
    "plt.ylabel('Number of Listings')\n",
    "plt.xticks([25, 75, 125, 175, 225])\n",
    "plt.grid(axis='y', linestyle='--', alpha=0.7)"
   ]
  },
  {
   "cell_type": "markdown",
   "id": "7ffa1006",
   "metadata": {},
   "source": [
    "## Listings per Host"
   ]
  },
  {
   "cell_type": "markdown",
   "id": "4931c880",
   "metadata": {},
   "source": [
    "Our next task is to create a table with the number of listings per host, in descending order and then visualize it."
   ]
  },
  {
   "cell_type": "markdown",
   "id": "5b5235c8",
   "metadata": {},
   "source": [
    "We are making use of the existing DataFrame GroupBy object `host_grp` anc count the number of listings for each host"
   ]
  },
  {
   "cell_type": "code",
   "execution_count": null,
   "id": "7a70d5c9",
   "metadata": {},
   "outputs": [],
   "source": [
    "listings_per_host = host_grp.size().sort_values(ascending=False)"
   ]
  },
  {
   "cell_type": "markdown",
   "id": "9070f617",
   "metadata": {},
   "source": [
    "We make some further adjustments to the table."
   ]
  },
  {
   "cell_type": "code",
   "execution_count": null,
   "id": "80347b8b",
   "metadata": {},
   "outputs": [],
   "source": [
    "listings_per_host = listings_per_host.reset_index()"
   ]
  },
  {
   "cell_type": "code",
   "execution_count": null,
   "id": "40f4dc44",
   "metadata": {},
   "outputs": [],
   "source": [
    "listings_per_host.rename(columns={0 : 'counts'}, inplace=True)"
   ]
  },
  {
   "cell_type": "code",
   "execution_count": null,
   "id": "d5a493de",
   "metadata": {},
   "outputs": [],
   "source": [
    "listings_per_host.head(5)"
   ]
  },
  {
   "cell_type": "markdown",
   "id": "b2f96a30",
   "metadata": {},
   "source": [
    "<br>\n",
    "We are now ready to visualize the the `listings_per_host` table in:\n",
    "\n",
    "* linear scale"
   ]
  },
  {
   "cell_type": "code",
   "execution_count": null,
   "id": "a1bcf59b",
   "metadata": {},
   "outputs": [],
   "source": [
    "plt.plot(listings_per_host.index + 1, listings_per_host['counts'], marker='o', linestyle='-', markersize=8)\n",
    "\n",
    "plt.title(\"Host Ranking on a Number of Listings Basis\")\n",
    "plt.xlabel(\"Rank\")\n",
    "plt.ylabel(\"Number of Listings\")\n",
    "\n",
    "plt.grid(True)\n",
    "plt.tight_layout()"
   ]
  },
  {
   "cell_type": "code",
   "execution_count": null,
   "id": "e86d6851",
   "metadata": {},
   "outputs": [],
   "source": [
    "plt.plot(listings_per_host.index + 1, listings_per_host['counts'], marker='o', linestyle='-', markersize=8)\n",
    "\n",
    "plt.title(\"Host Ranking on a Number of Listings Basis\")\n",
    "plt.xlabel(\"Host\")\n",
    "plt.ylabel(\"Number of Listings\")\n",
    "\n",
    "plt.grid(True)\n",
    "plt.tight_layout()\n",
    "\n",
    "plt.xscale('log')"
   ]
  },
  {
   "cell_type": "markdown",
   "id": "d8552e06",
   "metadata": {},
   "source": [
    "## Visualize Athen's listings with Folium"
   ]
  },
  {
   "cell_type": "markdown",
   "id": "242c39aa",
   "metadata": {},
   "source": [
    "Our final task is to draw an interactive map, so we can show the listings ovelayed on Athens and for that purpose we are going to use Folium library.<br>"
   ]
  },
  {
   "cell_type": "markdown",
   "id": "049ae798",
   "metadata": {},
   "source": [
    "At first we instantiate a map object for a given location, that being Athen's coordinates"
   ]
  },
  {
   "cell_type": "code",
   "execution_count": null,
   "id": "63320add",
   "metadata": {},
   "outputs": [],
   "source": [
    "athens_coordinates = [37.9838, 23.7275]\n",
    "\n",
    "m = folium.Map(location=athens_coordinates, zoom_start=12, max_zoom=15)"
   ]
  },
  {
   "cell_type": "markdown",
   "id": "8cf162ca",
   "metadata": {},
   "source": [
    "<br><br>\n",
    "Proceeding, we instantiate one single marker cluster to map.Using marker clusters, provides us a convenient way of demonstrating markers<br> in groups and helps us avoid overwhelming map info display. <br><br>Essentially, marker clusters are designed to group multiple map markers that are close to each other into a single cluster marker. <br><br>Furthermore, they indicate how many markers are present in that location.\n",
    "<br><br>"
   ]
  },
  {
   "cell_type": "code",
   "execution_count": null,
   "id": "ade3c414",
   "metadata": {},
   "outputs": [],
   "source": [
    "marker_cluster = MarkerCluster().add_to(m)"
   ]
  },
  {
   "cell_type": "markdown",
   "id": "b04351e0",
   "metadata": {},
   "source": [
    "As we need to shape our map with multiple information (such as the listing's name, or the pricing data), we iterate through the values of `listings` dataframe, that provide the desired data.\n",
    "\n",
    "* we assign to a `description` variable a formatted string, that collects info from the dataframe and will customize the description of the marker's pop-up\n",
    "\n",
    "* eventually, we set the marker's arguments properly, so after the loop completes, each and every marker will have been succesfully registered and displayed in tha map"
   ]
  },
  {
   "cell_type": "code",
   "execution_count": null,
   "id": "4fd56d95",
   "metadata": {},
   "outputs": [],
   "source": [
    "for index, row in listings.iterrows():\n",
    "    description = f\"<strong>{row['name']}</strong><br>Host: {row['host_name']}<br>Price: ${row['price']} per night\"\n",
    "    folium.Marker([row['latitude'], row['longitude']], tooltip=row['name'], popup=description).add_to(marker_cluster)"
   ]
  },
  {
   "cell_type": "markdown",
   "id": "8d357241",
   "metadata": {},
   "source": [
    "As plenty resources will be committed for the map to open smoothly, we save it in an external HTML file."
   ]
  },
  {
   "cell_type": "code",
   "execution_count": null,
   "id": "4500aac8",
   "metadata": {},
   "outputs": [],
   "source": [
    "m.save('airbnb_athens.html')"
   ]
  }
 ],
 "metadata": {
  "kernelspec": {
   "display_name": "Python 3 (ipykernel)",
   "language": "python",
   "name": "python3"
  },
  "language_info": {
   "codemirror_mode": {
    "name": "ipython",
    "version": 3
   },
   "file_extension": ".py",
   "mimetype": "text/x-python",
   "name": "python",
   "nbconvert_exporter": "python",
   "pygments_lexer": "ipython3",
   "version": "3.10.13"
  }
 },
 "nbformat": 4,
 "nbformat_minor": 5
}
