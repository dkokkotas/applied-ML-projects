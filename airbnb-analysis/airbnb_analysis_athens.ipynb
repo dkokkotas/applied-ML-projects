{
 "cells": [
  {
   "cell_type": "markdown",
   "id": "eeaf8e8d",
   "metadata": {},
   "source": [
    "# AirBnB in Athens : How does it influence our city?\n",
    "\n",
    "---\n",
    "\n",
    "> Dimitrios Kokkotas, 8200076 <br />\n",
    "> Dept of Management Science and Technology <br />\n",
    "> Athens University of Economics and Business <br />\n",
    "> dtmkokkotas@gmail.com"
   ]
  },
  {
   "cell_type": "markdown",
   "id": "baf8bf5f",
   "metadata": {},
   "source": [
    "* The current notebook performs an in depth analysis on AirBnB Athens data\n",
    "* Tha data are collected by [Inside AirBnB](http://insideairbnb.com)\n",
    "* You may visit Inside AirBnB's **data dictionary**, that provides an overview of the data structure and characterisitics\n",
    "* Assumptions regarding the data used, can be found here: [Data Assumptions](http://insideairbnb.com/data-assumptions)\n",
    "* Our core libraries : [pandas](https://pandas.pydata.org/) for our analysis and [matplotlib](https://matplotlib.org/) for visualizations"
   ]
  },
  {
   "cell_type": "markdown",
   "id": "69738c5a",
   "metadata": {},
   "source": [
    "## Importing the needed packages\n",
    "<br>\n",
    "At first, we import several libraries, with them serving analysis, visualization and statistics models' estimation needs"
   ]
  },
  {
   "cell_type": "code",
   "execution_count": 1,
   "id": "19b806bc",
   "metadata": {},
   "outputs": [],
   "source": [
    "import folium\n",
    "import pandas as pd\n",
    "import numpy as np\n",
    "import matplotlib.pyplot as plt\n",
    "from scipy.stats import spearmanr\n",
    "from folium.plugins import MarkerCluster"
   ]
  },
  {
   "cell_type": "markdown",
   "id": "b39d5136",
   "metadata": {},
   "source": [
    "<br>\n",
    "As we are working with a large number of columns within the dataframes, we may need to fully inspect them without truncation.\n",
    "<br><br>"
   ]
  },
  {
   "cell_type": "code",
   "execution_count": 2,
   "id": "24e515a2",
   "metadata": {},
   "outputs": [],
   "source": [
    "pd.set_option('display.max_columns', None)"
   ]
  },
  {
   "cell_type": "markdown",
   "id": "859ca9d5",
   "metadata": {},
   "source": [
    "## Reading our data\n",
    "<br>\n",
    "Our next step is to obtain several useful CSV files, fetched from our [source](http://insideairbnb.com/get-the-data), and place them under the `data` folder. What are the data about?\n",
    "\n",
    "* `listings.csv` : embodies summary information and metrics for listings in Athens \n",
    "* `reviews.csv`  : holds summary review data and listing ID\n",
    "* `calendar.csv`      : provides detailed calendar data \n",
    "* `neighbourhoods.csv`: stores a neighbourhood list for geo filter\n",
    "\n",
    "It's worth mentioning that there are also some corresponding to the listings (`listings-detailed.csv`) and  reviews (`reviews-detailed.csv`) files that hold more detailed information. At the moment, we just use the summary ones for the analysis needs.\n"
   ]
  },
  {
   "cell_type": "markdown",
   "id": "12b76235",
   "metadata": {},
   "source": [
    "We load the CSV files and assign them into DataFrame objects afterwards.\n",
    "<br><br>"
   ]
  },
  {
   "cell_type": "code",
   "execution_count": 3,
   "id": "51eef515",
   "metadata": {},
   "outputs": [],
   "source": [
    "listings = pd.read_csv('data/listings.csv')\n",
    "\n",
    "neighbourhoods = pd.read_csv('data/neighbourhoods.csv')\n",
    "\n",
    "# load 'date' column as date and time (by default is set as object type)\n",
    "reviews = pd.read_csv('data/reviews.csv',\n",
    "                     parse_dates=['date'])\n",
    "\n",
    "# load 'date' column as date and time (by default is set as object type)\n",
    "calendar = pd.read_csv('data/calendar.csv',\n",
    "                      parse_dates=['date'])"
   ]
  },
  {
   "cell_type": "markdown",
   "id": "f814e0d2",
   "metadata": {},
   "source": [
    "<br>\n",
    "We can now validate that the type of the `calendar.date` and `review.date` is `datetime`.\n",
    "<br><br>"
   ]
  },
  {
   "cell_type": "code",
   "execution_count": 4,
   "id": "25a6017c",
   "metadata": {},
   "outputs": [
    {
     "data": {
      "text/plain": [
       "dtype('<M8[ns]')"
      ]
     },
     "execution_count": 4,
     "metadata": {},
     "output_type": "execute_result"
    }
   ],
   "source": [
    "calendar.dtypes['date']"
   ]
  },
  {
   "cell_type": "code",
   "execution_count": 5,
   "id": "606c502f",
   "metadata": {},
   "outputs": [
    {
     "data": {
      "text/plain": [
       "dtype('<M8[ns]')"
      ]
     },
     "execution_count": 5,
     "metadata": {},
     "output_type": "execute_result"
    }
   ],
   "source": [
    "reviews.dtypes['date']"
   ]
  },
  {
   "cell_type": "markdown",
   "id": "e7227c28",
   "metadata": {},
   "source": [
    "<br>\n",
    "Gaining familiarity with the dataframes, we may overview our data via useful methods provided by pandas.\n",
    "<br><br>"
   ]
  },
  {
   "cell_type": "code",
   "execution_count": 6,
   "id": "885cebad",
   "metadata": {},
   "outputs": [
    {
     "data": {
      "text/html": [
       "<div>\n",
       "<style scoped>\n",
       "    .dataframe tbody tr th:only-of-type {\n",
       "        vertical-align: middle;\n",
       "    }\n",
       "\n",
       "    .dataframe tbody tr th {\n",
       "        vertical-align: top;\n",
       "    }\n",
       "\n",
       "    .dataframe thead th {\n",
       "        text-align: right;\n",
       "    }\n",
       "</style>\n",
       "<table border=\"1\" class=\"dataframe\">\n",
       "  <thead>\n",
       "    <tr style=\"text-align: right;\">\n",
       "      <th></th>\n",
       "      <th>id</th>\n",
       "      <th>name</th>\n",
       "      <th>host_id</th>\n",
       "      <th>host_name</th>\n",
       "      <th>neighbourhood_group</th>\n",
       "      <th>neighbourhood</th>\n",
       "      <th>latitude</th>\n",
       "      <th>longitude</th>\n",
       "      <th>room_type</th>\n",
       "      <th>price</th>\n",
       "      <th>minimum_nights</th>\n",
       "      <th>number_of_reviews</th>\n",
       "      <th>last_review</th>\n",
       "      <th>reviews_per_month</th>\n",
       "      <th>calculated_host_listings_count</th>\n",
       "      <th>availability_365</th>\n",
       "      <th>number_of_reviews_ltm</th>\n",
       "      <th>license</th>\n",
       "    </tr>\n",
       "  </thead>\n",
       "  <tbody>\n",
       "    <tr>\n",
       "      <th>0</th>\n",
       "      <td>10595</td>\n",
       "      <td>Condo in Athens · ★4.83 · 3 bedrooms · 5 beds ...</td>\n",
       "      <td>37177</td>\n",
       "      <td>Emmanouil</td>\n",
       "      <td>NaN</td>\n",
       "      <td>ΑΜΠΕΛΟΚΗΠΟΙ</td>\n",
       "      <td>37.98863</td>\n",
       "      <td>23.76527</td>\n",
       "      <td>Entire home/apt</td>\n",
       "      <td>144</td>\n",
       "      <td>1</td>\n",
       "      <td>42</td>\n",
       "      <td>2023-09-10</td>\n",
       "      <td>0.28</td>\n",
       "      <td>7</td>\n",
       "      <td>359</td>\n",
       "      <td>8</td>\n",
       "      <td>00000957568</td>\n",
       "    </tr>\n",
       "    <tr>\n",
       "      <th>1</th>\n",
       "      <td>10990</td>\n",
       "      <td>Rental unit in Athens · ★4.80 · 1 bedroom · 1 ...</td>\n",
       "      <td>37177</td>\n",
       "      <td>Emmanouil</td>\n",
       "      <td>NaN</td>\n",
       "      <td>ΑΜΠΕΛΟΚΗΠΟΙ</td>\n",
       "      <td>37.98903</td>\n",
       "      <td>23.76448</td>\n",
       "      <td>Entire home/apt</td>\n",
       "      <td>70</td>\n",
       "      <td>1</td>\n",
       "      <td>66</td>\n",
       "      <td>2023-07-01</td>\n",
       "      <td>0.49</td>\n",
       "      <td>7</td>\n",
       "      <td>74</td>\n",
       "      <td>3</td>\n",
       "      <td>00001070920</td>\n",
       "    </tr>\n",
       "  </tbody>\n",
       "</table>\n",
       "</div>"
      ],
      "text/plain": [
       "      id                                               name  host_id  \\\n",
       "0  10595  Condo in Athens · ★4.83 · 3 bedrooms · 5 beds ...    37177   \n",
       "1  10990  Rental unit in Athens · ★4.80 · 1 bedroom · 1 ...    37177   \n",
       "\n",
       "   host_name  neighbourhood_group neighbourhood  latitude  longitude  \\\n",
       "0  Emmanouil                  NaN   ΑΜΠΕΛΟΚΗΠΟΙ  37.98863   23.76527   \n",
       "1  Emmanouil                  NaN   ΑΜΠΕΛΟΚΗΠΟΙ  37.98903   23.76448   \n",
       "\n",
       "         room_type  price  minimum_nights  number_of_reviews last_review  \\\n",
       "0  Entire home/apt    144               1                 42  2023-09-10   \n",
       "1  Entire home/apt     70               1                 66  2023-07-01   \n",
       "\n",
       "   reviews_per_month  calculated_host_listings_count  availability_365  \\\n",
       "0               0.28                               7               359   \n",
       "1               0.49                               7                74   \n",
       "\n",
       "   number_of_reviews_ltm      license  \n",
       "0                      8  00000957568  \n",
       "1                      3  00001070920  "
      ]
     },
     "execution_count": 6,
     "metadata": {},
     "output_type": "execute_result"
    }
   ],
   "source": [
    "listings.head(2)"
   ]
  },
  {
   "cell_type": "code",
   "execution_count": 7,
   "id": "0d8e5fd8",
   "metadata": {},
   "outputs": [
    {
     "data": {
      "text/html": [
       "<div>\n",
       "<style scoped>\n",
       "    .dataframe tbody tr th:only-of-type {\n",
       "        vertical-align: middle;\n",
       "    }\n",
       "\n",
       "    .dataframe tbody tr th {\n",
       "        vertical-align: top;\n",
       "    }\n",
       "\n",
       "    .dataframe thead th {\n",
       "        text-align: right;\n",
       "    }\n",
       "</style>\n",
       "<table border=\"1\" class=\"dataframe\">\n",
       "  <thead>\n",
       "    <tr style=\"text-align: right;\">\n",
       "      <th></th>\n",
       "      <th>listing_id</th>\n",
       "      <th>date</th>\n",
       "      <th>available</th>\n",
       "      <th>price</th>\n",
       "      <th>adjusted_price</th>\n",
       "      <th>minimum_nights</th>\n",
       "      <th>maximum_nights</th>\n",
       "    </tr>\n",
       "  </thead>\n",
       "  <tbody>\n",
       "    <tr>\n",
       "      <th>4728227</th>\n",
       "      <td>984289252638695828</td>\n",
       "      <td>2024-09-18</td>\n",
       "      <td>t</td>\n",
       "      <td>$16.00</td>\n",
       "      <td>$16.00</td>\n",
       "      <td>1</td>\n",
       "      <td>365</td>\n",
       "    </tr>\n",
       "    <tr>\n",
       "      <th>4728228</th>\n",
       "      <td>984289252638695828</td>\n",
       "      <td>2024-09-19</td>\n",
       "      <td>t</td>\n",
       "      <td>$16.00</td>\n",
       "      <td>$16.00</td>\n",
       "      <td>1</td>\n",
       "      <td>365</td>\n",
       "    </tr>\n",
       "  </tbody>\n",
       "</table>\n",
       "</div>"
      ],
      "text/plain": [
       "                 listing_id       date available   price adjusted_price  \\\n",
       "4728227  984289252638695828 2024-09-18         t  $16.00         $16.00   \n",
       "4728228  984289252638695828 2024-09-19         t  $16.00         $16.00   \n",
       "\n",
       "         minimum_nights  maximum_nights  \n",
       "4728227               1             365  \n",
       "4728228               1             365  "
      ]
     },
     "execution_count": 7,
     "metadata": {},
     "output_type": "execute_result"
    }
   ],
   "source": [
    "calendar.tail(2)"
   ]
  },
  {
   "cell_type": "code",
   "execution_count": 8,
   "id": "0aed4b6f",
   "metadata": {},
   "outputs": [
    {
     "data": {
      "text/plain": [
       "(45, 2)"
      ]
     },
     "execution_count": 8,
     "metadata": {},
     "output_type": "execute_result"
    }
   ],
   "source": [
    "neighbourhoods.shape"
   ]
  },
  {
   "cell_type": "code",
   "execution_count": 9,
   "id": "554bc04b",
   "metadata": {},
   "outputs": [
    {
     "name": "stdout",
     "output_type": "stream",
     "text": [
      "<class 'pandas.core.frame.DataFrame'>\n",
      "RangeIndex: 4728229 entries, 0 to 4728228\n",
      "Data columns (total 7 columns):\n",
      " #   Column          Dtype         \n",
      "---  ------          -----         \n",
      " 0   listing_id      int64         \n",
      " 1   date            datetime64[ns]\n",
      " 2   available       object        \n",
      " 3   price           object        \n",
      " 4   adjusted_price  object        \n",
      " 5   minimum_nights  int64         \n",
      " 6   maximum_nights  int64         \n",
      "dtypes: datetime64[ns](1), int64(3), object(3)\n",
      "memory usage: 252.5+ MB\n"
     ]
    }
   ],
   "source": [
    "calendar.info()"
   ]
  },
  {
   "cell_type": "markdown",
   "id": "6161c429",
   "metadata": {},
   "source": [
    "<br>And many many more....."
   ]
  },
  {
   "cell_type": "markdown",
   "id": "fcfd308e",
   "metadata": {},
   "source": [
    "\n",
    "\n",
    "## Examining the popularity of Athens' neighbourhoods\n"
   ]
  },
  {
   "cell_type": "markdown",
   "id": "c7b5a360",
   "metadata": {},
   "source": [
    "To answer the question, we need to define those metrics, that properly estimate and assess the popularity of each neighbourhood. Inspecting the data filled in the `listing` dataframe, we collect two metrics, that seem representative for that purpose:\n",
    "\n",
    "* number of listings per neighbourhood\n",
    "* number of reviews  per neighbourhood"
   ]
  },
  {
   "cell_type": "markdown",
   "id": "1025c5d4",
   "metadata": {},
   "source": [
    "But first things first. Before calculating the above metrics, we shall group pur data by the neighbourhoods.<br><br>\n",
    "Essentially, a `groupby` operation involves the combination of *splitting the object*, *applying a function* and finally *combining the results*.<br>"
   ]
  },
  {
   "cell_type": "code",
   "execution_count": 10,
   "id": "d041a75c",
   "metadata": {},
   "outputs": [],
   "source": [
    "neighbourhood_grp = listings.groupby(['neighbourhood'])"
   ]
  },
  {
   "cell_type": "markdown",
   "id": "c99c2d1c",
   "metadata": {},
   "source": [
    "<br>\n",
    "Now, for each and every neighbourhood, we can show the number of listings and reviews, sorted in a descending order. The higher the neighbourhood ranks, the more popular it is.\n",
    "<br><br>"
   ]
  },
  {
   "cell_type": "code",
   "execution_count": 11,
   "id": "551cb982",
   "metadata": {},
   "outputs": [],
   "source": [
    "# both of the following return a Series data structure\n",
    "\n",
    "num_of_listings = neighbourhood_grp.size().sort_values(ascending=False) # count number of elements in each group\n",
    "\n",
    "num_of_reviews = neighbourhood_grp['number_of_reviews'].sum().sort_values(ascending=False)"
   ]
  },
  {
   "cell_type": "code",
   "execution_count": 12,
   "id": "71d4228d",
   "metadata": {},
   "outputs": [
    {
     "data": {
      "text/plain": [
       "neighbourhood\n",
       "ΕΜΠΟΡΙΚΟ ΤΡΙΓΩΝΟ-ΠΛΑΚΑ              2416\n",
       "ΚΟΥΚΑΚΙ-ΜΑΚΡΥΓΙΑΝΝΗ                 1122\n",
       "ΝΕΟΣ ΚΟΣΜΟΣ                          980\n",
       "ΜΟΥΣΕΙΟ-ΕΞΑΡΧΕΙΑ-ΝΕΑΠΟΛΗ             979\n",
       "ΑΓΙΟΣ ΚΩΝΣΤΑΝΤΙΝΟΣ-ΠΛΑΤΕΙΑ ΒΑΘΗΣ     817\n",
       "ΠΛΑΤΕΙΑ ΑΤΤΙΚΗΣ                      583\n",
       "ΠΑΓΚΡΑΤΙ                             511\n",
       "ΑΜΠΕΛΟΚΗΠΟΙ                          452\n",
       "ΚΟΛΩΝΑΚΙ                             425\n",
       "ΑΚΡΟΠΟΛΗ                             386\n",
       "ΘΗΣΕΙΟ                               386\n",
       "ΠΕΤΡΑΛΩΝΑ                            352\n",
       "ΚΕΡΑΜΕΙΚΟΣ                           343\n",
       "ΚΥΨΕΛΗ                               271\n",
       "ΣΤΑΔΙΟ                               252\n",
       "ΓΟΥΔΙ                                230\n",
       "ΙΛΙΣΙΑ                               216\n",
       "ΠΛΑΤΕΙΑ ΑΜΕΡΙΚΗΣ                     180\n",
       "ΝΙΡΒΑΝΑ                              174\n",
       "ΠΑΤΗΣΙΑ                              166\n",
       "ΛΥΚΑΒΗΤΤΟΣ                           162\n",
       "ΖΑΠΠΕΙΟ                              161\n",
       "ΑΝΩ ΚΥΨΕΛΗ                           119\n",
       "ΓΚΥΖΗ                                118\n",
       "ΠΕΔΙΟ ΑΡΕΩΣ                          109\n",
       "ΚΟΛΩΝΟΣ                              108\n",
       "ΓΚΑΖΙ                                106\n",
       "ΑΓΙΟΣ ΝΙΚΟΛΑΟΣ                        99\n",
       "ΣΤΑΘΜΟΣ ΛΑΡΙΣΗΣ                       85\n",
       "ΒΟΤΑΝΙΚΟΣ                             80\n",
       "ΑΚΑΔΗΜΙΑ ΠΛΑΤΩΝΟΣ                     76\n",
       "ΓΟΥΒΑ                                 75\n",
       "ΕΛΛΗΝΟΡΩΣΩΝ                           73\n",
       "ΝΕΑ ΚΥΨΕΛΗ                            64\n",
       "ΑΝΩ ΠΑΤΗΣΙΑ                           64\n",
       "1Ο ΝΕΚΡΟΤΑΦΕΙΟ                        55\n",
       "ΣΕΠΟΛΙΑ                               45\n",
       "ΑΓΙΟΣ ΕΛΕΥΘΕΡΙΟΣ                      38\n",
       "ΠΟΛΥΓΩΝΟ                              29\n",
       "ΚΟΛΟΚΥΝΘΟΥ                            16\n",
       "ΡΙΖΟΥΠΟΛΗ                             13\n",
       "ΠΡΟΜΠΟΝΑ                              12\n",
       "ΡΗΓΙΛΛΗΣ                               5\n",
       "ΠΕΝΤΑΓΩΝΟ                              2\n",
       "dtype: int64"
      ]
     },
     "execution_count": 12,
     "metadata": {},
     "output_type": "execute_result"
    }
   ],
   "source": [
    "num_of_listings"
   ]
  },
  {
   "cell_type": "code",
   "execution_count": 13,
   "id": "48249857",
   "metadata": {},
   "outputs": [
    {
     "data": {
      "text/plain": [
       "neighbourhood\n",
       "ΕΜΠΟΡΙΚΟ ΤΡΙΓΩΝΟ-ΠΛΑΚΑ              155818\n",
       "ΚΟΥΚΑΚΙ-ΜΑΚΡΥΓΙΑΝΝΗ                  75216\n",
       "ΝΕΟΣ ΚΟΣΜΟΣ                          47481\n",
       "ΑΓΙΟΣ ΚΩΝΣΤΑΝΤΙΝΟΣ-ΠΛΑΤΕΙΑ ΒΑΘΗΣ     37690\n",
       "ΜΟΥΣΕΙΟ-ΕΞΑΡΧΕΙΑ-ΝΕΑΠΟΛΗ             37621\n",
       "ΑΚΡΟΠΟΛΗ                             28135\n",
       "ΘΗΣΕΙΟ                               28087\n",
       "ΚΕΡΑΜΕΙΚΟΣ                           19722\n",
       "ΠΑΓΚΡΑΤΙ                             19022\n",
       "ΠΛΑΤΕΙΑ ΑΤΤΙΚΗΣ                      17754\n",
       "ΖΑΠΠΕΙΟ                              16339\n",
       "ΠΕΤΡΑΛΩΝΑ                            15995\n",
       "ΑΜΠΕΛΟΚΗΠΟΙ                          15508\n",
       "ΚΟΛΩΝΑΚΙ                             14437\n",
       "ΣΤΑΔΙΟ                               11620\n",
       "ΓΚΑΖΙ                                 8348\n",
       "ΚΥΨΕΛΗ                                7540\n",
       "ΙΛΙΣΙΑ                                6666\n",
       "ΝΙΡΒΑΝΑ                               6259\n",
       "ΓΟΥΔΙ                                 6163\n",
       "ΛΥΚΑΒΗΤΤΟΣ                            5215\n",
       "ΒΟΤΑΝΙΚΟΣ                             4679\n",
       "ΚΟΛΩΝΟΣ                               4351\n",
       "ΠΑΤΗΣΙΑ                               4036\n",
       "ΓΚΥΖΗ                                 3998\n",
       "ΣΤΑΘΜΟΣ ΛΑΡΙΣΗΣ                       3613\n",
       "ΠΛΑΤΕΙΑ ΑΜΕΡΙΚΗΣ                      3105\n",
       "ΑΝΩ ΚΥΨΕΛΗ                            3102\n",
       "ΑΚΑΔΗΜΙΑ ΠΛΑΤΩΝΟΣ                     2923\n",
       "1Ο ΝΕΚΡΟΤΑΦΕΙΟ                        2454\n",
       "ΕΛΛΗΝΟΡΩΣΩΝ                           2416\n",
       "ΠΕΔΙΟ ΑΡΕΩΣ                           2375\n",
       "ΑΝΩ ΠΑΤΗΣΙΑ                           2367\n",
       "ΑΓΙΟΣ ΝΙΚΟΛΑΟΣ                        2247\n",
       "ΓΟΥΒΑ                                 1616\n",
       "ΝΕΑ ΚΥΨΕΛΗ                            1474\n",
       "ΑΓΙΟΣ ΕΛΕΥΘΕΡΙΟΣ                      1380\n",
       "ΣΕΠΟΛΙΑ                                945\n",
       "ΚΟΛΟΚΥΝΘΟΥ                             732\n",
       "ΠΟΛΥΓΩΝΟ                               671\n",
       "ΠΕΝΤΑΓΩΝΟ                              526\n",
       "ΠΡΟΜΠΟΝΑ                               444\n",
       "ΡΙΖΟΥΠΟΛΗ                              366\n",
       "ΡΗΓΙΛΛΗΣ                               122\n",
       "Name: number_of_reviews, dtype: int64"
      ]
     },
     "execution_count": 13,
     "metadata": {},
     "output_type": "execute_result"
    }
   ],
   "source": [
    "num_of_reviews"
   ]
  },
  {
   "cell_type": "markdown",
   "id": "f7ca9307",
   "metadata": {},
   "source": [
    "<br>\n",
    "Based on the above results, we understand that the two metrics depict rankings with **strong similarity**, but also show some **minor differencies**<br>\n",
    "(see `ΑΓΙΟΣ ΚΩΝΣΤΑΝΤΙΝΟΣ-ΠΛΑΤΕΙΑ ΒΑΘΗΣ` neighbourhood).\n",
    "\n",
    "Extending our analysis and deelving into the similarity rate of the results, that each metric delivered, we make use of the *Spearman's Correlation Coefficient* method to determine the association between them.\n",
    "<br>"
   ]
  },
  {
   "cell_type": "code",
   "execution_count": 14,
   "id": "674cac01",
   "metadata": {},
   "outputs": [
    {
     "name": "stdout",
     "output_type": "stream",
     "text": [
      "Spearman SignificanceResult(statistic=0.9999295253531667, pvalue=1.651046842472306e-82)\n"
     ]
    }
   ],
   "source": [
    "print('Spearman', spearmanr(num_of_listings, num_of_reviews)) # print correlation coefficient and p_value"
   ]
  },
  {
   "cell_type": "markdown",
   "id": "e518c50b",
   "metadata": {},
   "source": [
    "So, evaluating the results:\n",
    "\n",
    "* **statistic is very close to 1** : there is a very strong positive monotonic relationship between the two series\n",
    "\n",
    "* **p-value is very close to 0** : the correlation is highly statistically significant and the association is unlikely to be due to random chance."
   ]
  },
  {
   "cell_type": "markdown",
   "id": "70e75258",
   "metadata": {},
   "source": [
    "All in all, both:\n",
    "* results' observation and\n",
    "* statistics' estimation,<br>\n",
    "\n",
    "tend to demonstrate a high score of similarity between the two rankings"
   ]
  },
  {
   "cell_type": "markdown",
   "id": "3448053e",
   "metadata": {},
   "source": [
    "## Time for some descriptives"
   ]
  },
  {
   "cell_type": "markdown",
   "id": "4c0ca5b2",
   "metadata": {},
   "source": [
    "We are asked to create a table with the prices per neighbourhood. The prices information should contain:\n",
    "\n",
    "* median price per neighbourhood\n",
    "* mean price per neighbourhood\n",
    "* standard deviation per neighbourhood\n",
    "* number of listings per neighbourhood"
   ]
  },
  {
   "cell_type": "markdown",
   "id": "f0d2ec31",
   "metadata": {},
   "source": [
    "Firstly, we make use of the existing `neighbourhood_grp` (*GroupBy* object), which holds a collection of data split into Athen's neighbourhood groups. \n",
    "<br><br>\n",
    "How are the requested descriptives calculated?\n",
    "<br><br>\n",
    "By performing some aggregation functions on each group, and assign the results to a table."
   ]
  },
  {
   "cell_type": "code",
   "execution_count": 15,
   "id": "c0353a8d",
   "metadata": {},
   "outputs": [],
   "source": [
    "descriptives = neighbourhood_grp['price'].agg(['median', 'mean', 'std', 'size'])"
   ]
  },
  {
   "cell_type": "markdown",
   "id": "4274f78a",
   "metadata": {},
   "source": [
    "As requested, we sort the contents of the table in descending order by the `median` statistical measure."
   ]
  },
  {
   "cell_type": "code",
   "execution_count": 16,
   "id": "89acd285",
   "metadata": {},
   "outputs": [],
   "source": [
    "descriptives = descriptives.sort_values(by='median', ascending=False)"
   ]
  },
  {
   "cell_type": "markdown",
   "id": "85dc74c1",
   "metadata": {},
   "source": [
    "Following up on the sorting operation, we make some final adjustments."
   ]
  },
  {
   "cell_type": "code",
   "execution_count": 17,
   "id": "a0b39cb3",
   "metadata": {},
   "outputs": [],
   "source": [
    "descriptives = descriptives.reset_index()"
   ]
  },
  {
   "cell_type": "code",
   "execution_count": 18,
   "id": "18119379",
   "metadata": {},
   "outputs": [
    {
     "data": {
      "text/html": [
       "<div>\n",
       "<style scoped>\n",
       "    .dataframe tbody tr th:only-of-type {\n",
       "        vertical-align: middle;\n",
       "    }\n",
       "\n",
       "    .dataframe tbody tr th {\n",
       "        vertical-align: top;\n",
       "    }\n",
       "\n",
       "    .dataframe thead th {\n",
       "        text-align: right;\n",
       "    }\n",
       "</style>\n",
       "<table border=\"1\" class=\"dataframe\">\n",
       "  <thead>\n",
       "    <tr style=\"text-align: right;\">\n",
       "      <th></th>\n",
       "      <th>neighbourhood</th>\n",
       "      <th>median</th>\n",
       "      <th>mean</th>\n",
       "      <th>std</th>\n",
       "      <th>size</th>\n",
       "    </tr>\n",
       "  </thead>\n",
       "  <tbody>\n",
       "    <tr>\n",
       "      <th>0</th>\n",
       "      <td>ΡΗΓΙΛΛΗΣ</td>\n",
       "      <td>120.0</td>\n",
       "      <td>367.800000</td>\n",
       "      <td>578.622675</td>\n",
       "      <td>5</td>\n",
       "    </tr>\n",
       "    <tr>\n",
       "      <th>1</th>\n",
       "      <td>ΖΑΠΠΕΙΟ</td>\n",
       "      <td>114.0</td>\n",
       "      <td>224.068323</td>\n",
       "      <td>641.163173</td>\n",
       "      <td>161</td>\n",
       "    </tr>\n",
       "    <tr>\n",
       "      <th>2</th>\n",
       "      <td>ΕΜΠΟΡΙΚΟ ΤΡΙΓΩΝΟ-ΠΛΑΚΑ</td>\n",
       "      <td>104.0</td>\n",
       "      <td>140.650662</td>\n",
       "      <td>229.183015</td>\n",
       "      <td>2416</td>\n",
       "    </tr>\n",
       "    <tr>\n",
       "      <th>3</th>\n",
       "      <td>ΑΚΡΟΠΟΛΗ</td>\n",
       "      <td>100.0</td>\n",
       "      <td>195.344560</td>\n",
       "      <td>703.321565</td>\n",
       "      <td>386</td>\n",
       "    </tr>\n",
       "    <tr>\n",
       "      <th>4</th>\n",
       "      <td>ΚΟΛΩΝΑΚΙ</td>\n",
       "      <td>100.0</td>\n",
       "      <td>128.595294</td>\n",
       "      <td>104.431349</td>\n",
       "      <td>425</td>\n",
       "    </tr>\n",
       "    <tr>\n",
       "      <th>5</th>\n",
       "      <td>ΚΟΥΚΑΚΙ-ΜΑΚΡΥΓΙΑΝΝΗ</td>\n",
       "      <td>90.5</td>\n",
       "      <td>120.284314</td>\n",
       "      <td>104.613533</td>\n",
       "      <td>1122</td>\n",
       "    </tr>\n",
       "    <tr>\n",
       "      <th>6</th>\n",
       "      <td>ΘΗΣΕΙΟ</td>\n",
       "      <td>90.0</td>\n",
       "      <td>126.492228</td>\n",
       "      <td>124.176775</td>\n",
       "      <td>386</td>\n",
       "    </tr>\n",
       "    <tr>\n",
       "      <th>7</th>\n",
       "      <td>ΚΕΡΑΜΕΙΚΟΣ</td>\n",
       "      <td>89.0</td>\n",
       "      <td>123.883382</td>\n",
       "      <td>136.367487</td>\n",
       "      <td>343</td>\n",
       "    </tr>\n",
       "    <tr>\n",
       "      <th>8</th>\n",
       "      <td>ΛΥΚΑΒΗΤΤΟΣ</td>\n",
       "      <td>75.0</td>\n",
       "      <td>104.561728</td>\n",
       "      <td>87.859850</td>\n",
       "      <td>162</td>\n",
       "    </tr>\n",
       "    <tr>\n",
       "      <th>9</th>\n",
       "      <td>ΓΚΑΖΙ</td>\n",
       "      <td>70.5</td>\n",
       "      <td>95.792453</td>\n",
       "      <td>75.355882</td>\n",
       "      <td>106</td>\n",
       "    </tr>\n",
       "    <tr>\n",
       "      <th>10</th>\n",
       "      <td>ΣΤΑΔΙΟ</td>\n",
       "      <td>70.0</td>\n",
       "      <td>121.515873</td>\n",
       "      <td>509.991840</td>\n",
       "      <td>252</td>\n",
       "    </tr>\n",
       "    <tr>\n",
       "      <th>11</th>\n",
       "      <td>ΙΛΙΣΙΑ</td>\n",
       "      <td>70.0</td>\n",
       "      <td>87.189815</td>\n",
       "      <td>53.519013</td>\n",
       "      <td>216</td>\n",
       "    </tr>\n",
       "    <tr>\n",
       "      <th>12</th>\n",
       "      <td>ΜΟΥΣΕΙΟ-ΕΞΑΡΧΕΙΑ-ΝΕΑΠΟΛΗ</td>\n",
       "      <td>67.0</td>\n",
       "      <td>169.259448</td>\n",
       "      <td>2563.621548</td>\n",
       "      <td>979</td>\n",
       "    </tr>\n",
       "    <tr>\n",
       "      <th>13</th>\n",
       "      <td>ΝΕΟΣ ΚΟΣΜΟΣ</td>\n",
       "      <td>67.0</td>\n",
       "      <td>94.586735</td>\n",
       "      <td>127.407374</td>\n",
       "      <td>980</td>\n",
       "    </tr>\n",
       "    <tr>\n",
       "      <th>14</th>\n",
       "      <td>ΠΑΓΚΡΑΤΙ</td>\n",
       "      <td>67.0</td>\n",
       "      <td>84.062622</td>\n",
       "      <td>92.218241</td>\n",
       "      <td>511</td>\n",
       "    </tr>\n",
       "    <tr>\n",
       "      <th>15</th>\n",
       "      <td>ΠΕΤΡΑΛΩΝΑ</td>\n",
       "      <td>66.5</td>\n",
       "      <td>104.701705</td>\n",
       "      <td>285.518630</td>\n",
       "      <td>352</td>\n",
       "    </tr>\n",
       "    <tr>\n",
       "      <th>16</th>\n",
       "      <td>1Ο ΝΕΚΡΟΤΑΦΕΙΟ</td>\n",
       "      <td>61.0</td>\n",
       "      <td>98.818182</td>\n",
       "      <td>92.281191</td>\n",
       "      <td>55</td>\n",
       "    </tr>\n",
       "    <tr>\n",
       "      <th>17</th>\n",
       "      <td>ΕΛΛΗΝΟΡΩΣΩΝ</td>\n",
       "      <td>60.0</td>\n",
       "      <td>81.589041</td>\n",
       "      <td>72.727390</td>\n",
       "      <td>73</td>\n",
       "    </tr>\n",
       "    <tr>\n",
       "      <th>18</th>\n",
       "      <td>ΒΟΤΑΝΙΚΟΣ</td>\n",
       "      <td>60.0</td>\n",
       "      <td>78.200000</td>\n",
       "      <td>48.042281</td>\n",
       "      <td>80</td>\n",
       "    </tr>\n",
       "    <tr>\n",
       "      <th>19</th>\n",
       "      <td>ΓΟΥΒΑ</td>\n",
       "      <td>58.0</td>\n",
       "      <td>72.240000</td>\n",
       "      <td>83.506245</td>\n",
       "      <td>75</td>\n",
       "    </tr>\n",
       "    <tr>\n",
       "      <th>20</th>\n",
       "      <td>ΑΜΠΕΛΟΚΗΠΟΙ</td>\n",
       "      <td>58.0</td>\n",
       "      <td>66.915929</td>\n",
       "      <td>39.297399</td>\n",
       "      <td>452</td>\n",
       "    </tr>\n",
       "    <tr>\n",
       "      <th>21</th>\n",
       "      <td>ΑΓΙΟΣ ΚΩΝΣΤΑΝΤΙΝΟΣ-ΠΛΑΤΕΙΑ ΒΑΘΗΣ</td>\n",
       "      <td>58.0</td>\n",
       "      <td>78.155447</td>\n",
       "      <td>73.453460</td>\n",
       "      <td>817</td>\n",
       "    </tr>\n",
       "    <tr>\n",
       "      <th>22</th>\n",
       "      <td>ΓΟΥΔΙ</td>\n",
       "      <td>58.0</td>\n",
       "      <td>68.952174</td>\n",
       "      <td>37.039603</td>\n",
       "      <td>230</td>\n",
       "    </tr>\n",
       "    <tr>\n",
       "      <th>23</th>\n",
       "      <td>ΠΡΟΜΠΟΝΑ</td>\n",
       "      <td>57.0</td>\n",
       "      <td>60.833333</td>\n",
       "      <td>27.511430</td>\n",
       "      <td>12</td>\n",
       "    </tr>\n",
       "    <tr>\n",
       "      <th>24</th>\n",
       "      <td>ΠΕΔΙΟ ΑΡΕΩΣ</td>\n",
       "      <td>56.0</td>\n",
       "      <td>148.137615</td>\n",
       "      <td>761.697707</td>\n",
       "      <td>109</td>\n",
       "    </tr>\n",
       "    <tr>\n",
       "      <th>25</th>\n",
       "      <td>ΣΕΠΟΛΙΑ</td>\n",
       "      <td>55.0</td>\n",
       "      <td>77.422222</td>\n",
       "      <td>150.067332</td>\n",
       "      <td>45</td>\n",
       "    </tr>\n",
       "    <tr>\n",
       "      <th>26</th>\n",
       "      <td>ΝΕΑ ΚΥΨΕΛΗ</td>\n",
       "      <td>50.0</td>\n",
       "      <td>56.453125</td>\n",
       "      <td>28.871873</td>\n",
       "      <td>64</td>\n",
       "    </tr>\n",
       "    <tr>\n",
       "      <th>27</th>\n",
       "      <td>ΣΤΑΘΜΟΣ ΛΑΡΙΣΗΣ</td>\n",
       "      <td>50.0</td>\n",
       "      <td>61.564706</td>\n",
       "      <td>58.615870</td>\n",
       "      <td>85</td>\n",
       "    </tr>\n",
       "    <tr>\n",
       "      <th>28</th>\n",
       "      <td>ΚΥΨΕΛΗ</td>\n",
       "      <td>50.0</td>\n",
       "      <td>62.656827</td>\n",
       "      <td>58.884856</td>\n",
       "      <td>271</td>\n",
       "    </tr>\n",
       "    <tr>\n",
       "      <th>29</th>\n",
       "      <td>ΑΚΑΔΗΜΙΑ ΠΛΑΤΩΝΟΣ</td>\n",
       "      <td>50.0</td>\n",
       "      <td>79.934211</td>\n",
       "      <td>163.926596</td>\n",
       "      <td>76</td>\n",
       "    </tr>\n",
       "    <tr>\n",
       "      <th>30</th>\n",
       "      <td>ΠΛΑΤΕΙΑ ΑΤΤΙΚΗΣ</td>\n",
       "      <td>48.0</td>\n",
       "      <td>64.116638</td>\n",
       "      <td>74.498484</td>\n",
       "      <td>583</td>\n",
       "    </tr>\n",
       "    <tr>\n",
       "      <th>31</th>\n",
       "      <td>ΑΝΩ ΠΑΤΗΣΙΑ</td>\n",
       "      <td>48.0</td>\n",
       "      <td>56.078125</td>\n",
       "      <td>29.493774</td>\n",
       "      <td>64</td>\n",
       "    </tr>\n",
       "    <tr>\n",
       "      <th>32</th>\n",
       "      <td>ΚΟΛΩΝΟΣ</td>\n",
       "      <td>47.0</td>\n",
       "      <td>51.888889</td>\n",
       "      <td>21.263955</td>\n",
       "      <td>108</td>\n",
       "    </tr>\n",
       "    <tr>\n",
       "      <th>33</th>\n",
       "      <td>ΠΕΝΤΑΓΩΝΟ</td>\n",
       "      <td>46.0</td>\n",
       "      <td>46.000000</td>\n",
       "      <td>1.414214</td>\n",
       "      <td>2</td>\n",
       "    </tr>\n",
       "    <tr>\n",
       "      <th>34</th>\n",
       "      <td>ΠΑΤΗΣΙΑ</td>\n",
       "      <td>45.0</td>\n",
       "      <td>60.524096</td>\n",
       "      <td>117.601314</td>\n",
       "      <td>166</td>\n",
       "    </tr>\n",
       "    <tr>\n",
       "      <th>35</th>\n",
       "      <td>ΠΟΛΥΓΩΝΟ</td>\n",
       "      <td>45.0</td>\n",
       "      <td>54.310345</td>\n",
       "      <td>26.467100</td>\n",
       "      <td>29</td>\n",
       "    </tr>\n",
       "    <tr>\n",
       "      <th>36</th>\n",
       "      <td>ΑΓΙΟΣ ΝΙΚΟΛΑΟΣ</td>\n",
       "      <td>45.0</td>\n",
       "      <td>53.202020</td>\n",
       "      <td>32.861484</td>\n",
       "      <td>99</td>\n",
       "    </tr>\n",
       "    <tr>\n",
       "      <th>37</th>\n",
       "      <td>ΓΚΥΖΗ</td>\n",
       "      <td>44.5</td>\n",
       "      <td>52.033898</td>\n",
       "      <td>42.301913</td>\n",
       "      <td>118</td>\n",
       "    </tr>\n",
       "    <tr>\n",
       "      <th>38</th>\n",
       "      <td>ΠΛΑΤΕΙΑ ΑΜΕΡΙΚΗΣ</td>\n",
       "      <td>44.0</td>\n",
       "      <td>52.500000</td>\n",
       "      <td>37.479603</td>\n",
       "      <td>180</td>\n",
       "    </tr>\n",
       "    <tr>\n",
       "      <th>39</th>\n",
       "      <td>ΡΙΖΟΥΠΟΛΗ</td>\n",
       "      <td>44.0</td>\n",
       "      <td>52.538462</td>\n",
       "      <td>22.096815</td>\n",
       "      <td>13</td>\n",
       "    </tr>\n",
       "    <tr>\n",
       "      <th>40</th>\n",
       "      <td>ΚΟΛΟΚΥΝΘΟΥ</td>\n",
       "      <td>43.0</td>\n",
       "      <td>43.937500</td>\n",
       "      <td>9.532182</td>\n",
       "      <td>16</td>\n",
       "    </tr>\n",
       "    <tr>\n",
       "      <th>41</th>\n",
       "      <td>ΝΙΡΒΑΝΑ</td>\n",
       "      <td>42.0</td>\n",
       "      <td>53.045977</td>\n",
       "      <td>39.449070</td>\n",
       "      <td>174</td>\n",
       "    </tr>\n",
       "    <tr>\n",
       "      <th>42</th>\n",
       "      <td>ΑΝΩ ΚΥΨΕΛΗ</td>\n",
       "      <td>42.0</td>\n",
       "      <td>45.932773</td>\n",
       "      <td>23.316078</td>\n",
       "      <td>119</td>\n",
       "    </tr>\n",
       "    <tr>\n",
       "      <th>43</th>\n",
       "      <td>ΑΓΙΟΣ ΕΛΕΥΘΕΡΙΟΣ</td>\n",
       "      <td>41.5</td>\n",
       "      <td>43.736842</td>\n",
       "      <td>17.408734</td>\n",
       "      <td>38</td>\n",
       "    </tr>\n",
       "  </tbody>\n",
       "</table>\n",
       "</div>"
      ],
      "text/plain": [
       "                       neighbourhood  median        mean          std  size\n",
       "0                           ΡΗΓΙΛΛΗΣ   120.0  367.800000   578.622675     5\n",
       "1                            ΖΑΠΠΕΙΟ   114.0  224.068323   641.163173   161\n",
       "2             ΕΜΠΟΡΙΚΟ ΤΡΙΓΩΝΟ-ΠΛΑΚΑ   104.0  140.650662   229.183015  2416\n",
       "3                           ΑΚΡΟΠΟΛΗ   100.0  195.344560   703.321565   386\n",
       "4                           ΚΟΛΩΝΑΚΙ   100.0  128.595294   104.431349   425\n",
       "5                ΚΟΥΚΑΚΙ-ΜΑΚΡΥΓΙΑΝΝΗ    90.5  120.284314   104.613533  1122\n",
       "6                             ΘΗΣΕΙΟ    90.0  126.492228   124.176775   386\n",
       "7                         ΚΕΡΑΜΕΙΚΟΣ    89.0  123.883382   136.367487   343\n",
       "8                         ΛΥΚΑΒΗΤΤΟΣ    75.0  104.561728    87.859850   162\n",
       "9                              ΓΚΑΖΙ    70.5   95.792453    75.355882   106\n",
       "10                            ΣΤΑΔΙΟ    70.0  121.515873   509.991840   252\n",
       "11                            ΙΛΙΣΙΑ    70.0   87.189815    53.519013   216\n",
       "12          ΜΟΥΣΕΙΟ-ΕΞΑΡΧΕΙΑ-ΝΕΑΠΟΛΗ    67.0  169.259448  2563.621548   979\n",
       "13                       ΝΕΟΣ ΚΟΣΜΟΣ    67.0   94.586735   127.407374   980\n",
       "14                          ΠΑΓΚΡΑΤΙ    67.0   84.062622    92.218241   511\n",
       "15                         ΠΕΤΡΑΛΩΝΑ    66.5  104.701705   285.518630   352\n",
       "16                    1Ο ΝΕΚΡΟΤΑΦΕΙΟ    61.0   98.818182    92.281191    55\n",
       "17                       ΕΛΛΗΝΟΡΩΣΩΝ    60.0   81.589041    72.727390    73\n",
       "18                         ΒΟΤΑΝΙΚΟΣ    60.0   78.200000    48.042281    80\n",
       "19                             ΓΟΥΒΑ    58.0   72.240000    83.506245    75\n",
       "20                       ΑΜΠΕΛΟΚΗΠΟΙ    58.0   66.915929    39.297399   452\n",
       "21  ΑΓΙΟΣ ΚΩΝΣΤΑΝΤΙΝΟΣ-ΠΛΑΤΕΙΑ ΒΑΘΗΣ    58.0   78.155447    73.453460   817\n",
       "22                             ΓΟΥΔΙ    58.0   68.952174    37.039603   230\n",
       "23                          ΠΡΟΜΠΟΝΑ    57.0   60.833333    27.511430    12\n",
       "24                       ΠΕΔΙΟ ΑΡΕΩΣ    56.0  148.137615   761.697707   109\n",
       "25                           ΣΕΠΟΛΙΑ    55.0   77.422222   150.067332    45\n",
       "26                        ΝΕΑ ΚΥΨΕΛΗ    50.0   56.453125    28.871873    64\n",
       "27                   ΣΤΑΘΜΟΣ ΛΑΡΙΣΗΣ    50.0   61.564706    58.615870    85\n",
       "28                            ΚΥΨΕΛΗ    50.0   62.656827    58.884856   271\n",
       "29                 ΑΚΑΔΗΜΙΑ ΠΛΑΤΩΝΟΣ    50.0   79.934211   163.926596    76\n",
       "30                   ΠΛΑΤΕΙΑ ΑΤΤΙΚΗΣ    48.0   64.116638    74.498484   583\n",
       "31                       ΑΝΩ ΠΑΤΗΣΙΑ    48.0   56.078125    29.493774    64\n",
       "32                           ΚΟΛΩΝΟΣ    47.0   51.888889    21.263955   108\n",
       "33                         ΠΕΝΤΑΓΩΝΟ    46.0   46.000000     1.414214     2\n",
       "34                           ΠΑΤΗΣΙΑ    45.0   60.524096   117.601314   166\n",
       "35                          ΠΟΛΥΓΩΝΟ    45.0   54.310345    26.467100    29\n",
       "36                    ΑΓΙΟΣ ΝΙΚΟΛΑΟΣ    45.0   53.202020    32.861484    99\n",
       "37                             ΓΚΥΖΗ    44.5   52.033898    42.301913   118\n",
       "38                  ΠΛΑΤΕΙΑ ΑΜΕΡΙΚΗΣ    44.0   52.500000    37.479603   180\n",
       "39                         ΡΙΖΟΥΠΟΛΗ    44.0   52.538462    22.096815    13\n",
       "40                        ΚΟΛΟΚΥΝΘΟΥ    43.0   43.937500     9.532182    16\n",
       "41                           ΝΙΡΒΑΝΑ    42.0   53.045977    39.449070   174\n",
       "42                        ΑΝΩ ΚΥΨΕΛΗ    42.0   45.932773    23.316078   119\n",
       "43                  ΑΓΙΟΣ ΕΛΕΥΘΕΡΙΟΣ    41.5   43.736842    17.408734    38"
      ]
     },
     "execution_count": 18,
     "metadata": {},
     "output_type": "execute_result"
    }
   ],
   "source": [
    "descriptives"
   ]
  },
  {
   "cell_type": "markdown",
   "id": "074aaa9e",
   "metadata": {},
   "source": [
    "## Visualizing the availability of listings per day"
   ]
  },
  {
   "cell_type": "markdown",
   "id": "da79330b",
   "metadata": {},
   "source": [
    "We are asked to create a plot with the number of listings available per day, on the $y$ axis, and the date, on the $x$ axis."
   ]
  },
  {
   "cell_type": "markdown",
   "id": "82b7b782",
   "metadata": {},
   "source": [
    "We are working on the `calendar` dataframe, which holds the data in reference to the listings, dates, and availabilities. \n",
    "<br><br>\n",
    "Let's show some indicative rows, in order to get familiar with the structure. \n",
    "<br>"
   ]
  },
  {
   "cell_type": "code",
   "execution_count": 19,
   "id": "0c7c8e88",
   "metadata": {},
   "outputs": [
    {
     "data": {
      "text/html": [
       "<div>\n",
       "<style scoped>\n",
       "    .dataframe tbody tr th:only-of-type {\n",
       "        vertical-align: middle;\n",
       "    }\n",
       "\n",
       "    .dataframe tbody tr th {\n",
       "        vertical-align: top;\n",
       "    }\n",
       "\n",
       "    .dataframe thead th {\n",
       "        text-align: right;\n",
       "    }\n",
       "</style>\n",
       "<table border=\"1\" class=\"dataframe\">\n",
       "  <thead>\n",
       "    <tr style=\"text-align: right;\">\n",
       "      <th></th>\n",
       "      <th>listing_id</th>\n",
       "      <th>date</th>\n",
       "      <th>available</th>\n",
       "      <th>price</th>\n",
       "      <th>adjusted_price</th>\n",
       "      <th>minimum_nights</th>\n",
       "      <th>maximum_nights</th>\n",
       "    </tr>\n",
       "  </thead>\n",
       "  <tbody>\n",
       "    <tr>\n",
       "      <th>0</th>\n",
       "      <td>10595</td>\n",
       "      <td>2023-09-21</td>\n",
       "      <td>f</td>\n",
       "      <td>$150.00</td>\n",
       "      <td>$60.00</td>\n",
       "      <td>1</td>\n",
       "      <td>180</td>\n",
       "    </tr>\n",
       "    <tr>\n",
       "      <th>1</th>\n",
       "      <td>10595</td>\n",
       "      <td>2023-09-22</td>\n",
       "      <td>t</td>\n",
       "      <td>$150.00</td>\n",
       "      <td>$60.00</td>\n",
       "      <td>1</td>\n",
       "      <td>180</td>\n",
       "    </tr>\n",
       "  </tbody>\n",
       "</table>\n",
       "</div>"
      ],
      "text/plain": [
       "   listing_id       date available    price adjusted_price  minimum_nights  \\\n",
       "0       10595 2023-09-21         f  $150.00         $60.00               1   \n",
       "1       10595 2023-09-22         t  $150.00         $60.00               1   \n",
       "\n",
       "   maximum_nights  \n",
       "0             180  \n",
       "1             180  "
      ]
     },
     "execution_count": 19,
     "metadata": {},
     "output_type": "execute_result"
    }
   ],
   "source": [
    "calendar.head(2)"
   ]
  },
  {
   "cell_type": "markdown",
   "id": "f6291342",
   "metadata": {},
   "source": [
    "<br>\n",
    "Since we are looking for availability, we need to filter out each and every occurrence of listings with no availability (`available ='f'`). \n",
    "<br><br>\n",
    "That being the case, we assign the filtered dataframe to a new one called  `calendar_is_available`.\n",
    "<br><br>"
   ]
  },
  {
   "cell_type": "code",
   "execution_count": 20,
   "id": "efe2c5dd",
   "metadata": {},
   "outputs": [],
   "source": [
    "calendar_is_available = calendar[(calendar['available'] == 't')]"
   ]
  },
  {
   "cell_type": "markdown",
   "id": "a45eeb62",
   "metadata": {},
   "source": [
    "<br>\n",
    "Later, we group the data of the updated dataframe by date, so we can eventually count the number of listings available for each day.\n",
    "<br><br>"
   ]
  },
  {
   "cell_type": "code",
   "execution_count": 21,
   "id": "16f97210",
   "metadata": {},
   "outputs": [],
   "source": [
    "date_grp = calendar_is_available.groupby(['date'])"
   ]
  },
  {
   "cell_type": "code",
   "execution_count": 22,
   "id": "50f9e284",
   "metadata": {},
   "outputs": [],
   "source": [
    "available_per_day = date_grp['listing_id'].count()"
   ]
  },
  {
   "cell_type": "code",
   "execution_count": 23,
   "id": "e6399199",
   "metadata": {},
   "outputs": [
    {
     "data": {
      "text/plain": [
       "date\n",
       "2023-09-21     540\n",
       "2023-09-22     982\n",
       "2023-09-23    1475\n",
       "2023-09-24    2495\n",
       "2023-09-25    3194\n",
       "              ... \n",
       "2024-09-15    7532\n",
       "2024-09-16    7535\n",
       "2024-09-17    7532\n",
       "2024-09-18    7537\n",
       "2024-09-19    7555\n",
       "Name: listing_id, Length: 365, dtype: int64"
      ]
     },
     "execution_count": 23,
     "metadata": {},
     "output_type": "execute_result"
    }
   ],
   "source": [
    "available_per_day # the values on the y-axis of the plot"
   ]
  },
  {
   "cell_type": "markdown",
   "id": "079bebcf",
   "metadata": {},
   "source": [
    "<br>\n",
    "Using the existing index of the `available_per_day` Series, we assign the unique identifiers to a new Series collection, called `dates`.\n",
    "<br><br>"
   ]
  },
  {
   "cell_type": "code",
   "execution_count": 24,
   "id": "f259fce1",
   "metadata": {},
   "outputs": [],
   "source": [
    "dates = available_per_day.index"
   ]
  },
  {
   "cell_type": "code",
   "execution_count": 25,
   "id": "da6d5078",
   "metadata": {},
   "outputs": [
    {
     "data": {
      "text/plain": [
       "DatetimeIndex(['2023-09-21', '2023-09-22', '2023-09-23', '2023-09-24',\n",
       "               '2023-09-25', '2023-09-26', '2023-09-27', '2023-09-28',\n",
       "               '2023-09-29', '2023-09-30',\n",
       "               ...\n",
       "               '2024-09-10', '2024-09-11', '2024-09-12', '2024-09-13',\n",
       "               '2024-09-14', '2024-09-15', '2024-09-16', '2024-09-17',\n",
       "               '2024-09-18', '2024-09-19'],\n",
       "              dtype='datetime64[ns]', name='date', length=365, freq=None)"
      ]
     },
     "execution_count": 25,
     "metadata": {},
     "output_type": "execute_result"
    }
   ],
   "source": [
    "dates # the values on the x-axis of the plot"
   ]
  },
  {
   "cell_type": "markdown",
   "id": "2296ca9e",
   "metadata": {},
   "source": [
    "<br><br>\n",
    "Now we are ready to visualize our data.\n",
    "<br><br>"
   ]
  },
  {
   "cell_type": "code",
   "execution_count": 26,
   "id": "381be543",
   "metadata": {},
   "outputs": [
    {
     "data": {
      "image/png": "[encoded data removed]",
      "text/plain": [
       "<Figure size 800x550 with 1 Axes>"
      ]
     },
     "metadata": {},
     "output_type": "display_data"
    }
   ],
   "source": [
    "plt.style.use('seaborn-v0_8')\n",
    "\n",
    "plt.plot_date(dates, available_per_day, linestyle='solid') # draw a line plot of data points with dates\n",
    "\n",
    "plt.gcf().autofmt_xdate() # make sure that the dates in x-axis are not overcrowded and ensure readability\n",
    "\n",
    "plt.title('Availability of Listings Across Time')\n",
    "plt.xlabel('Date')\n",
    "plt.ylabel('Number of Available Listings ')\n",
    "\n",
    "plt.tight_layout()\n",
    "\n",
    "plt.show()"
   ]
  },
  {
   "cell_type": "markdown",
   "id": "846ef6d3",
   "metadata": {},
   "source": [
    "## Reviews, Occupacy per Listing, Average Income"
   ]
  },
  {
   "cell_type": "markdown",
   "id": "112a6de2",
   "metadata": {},
   "source": [
    "We are asked to create a histogram, visualizing the number of reviews per listing.<br><br>We will collect data from the `listings` dataframe, as both the `id` of the listing and it's `number of reviews`, are recorded there.<br>"
   ]
  },
  {
   "cell_type": "markdown",
   "id": "a493be1c",
   "metadata": {},
   "source": [
    "We can validate that within the `listings` dataframes, the column `id` contains unique values."
   ]
  },
  {
   "cell_type": "code",
   "execution_count": 27,
   "id": "456b4b7e",
   "metadata": {},
   "outputs": [
    {
     "data": {
      "text/plain": [
       "True"
      ]
     },
     "execution_count": 27,
     "metadata": {},
     "output_type": "execute_result"
    }
   ],
   "source": [
    "listings.id.nunique() == len(listings.id)"
   ]
  },
  {
   "cell_type": "markdown",
   "id": "ac058050",
   "metadata": {},
   "source": [
    "<br>\n",
    "Given the above statement, there is no need for grouping the data by the listing id, and we can find the number of reviews per listing:\n",
    "<br><br>"
   ]
  },
  {
   "cell_type": "code",
   "execution_count": 28,
   "id": "3447e481",
   "metadata": {},
   "outputs": [],
   "source": [
    "reviews_per_listing = listings['number_of_reviews'] # returns a Series containing the num of reviews for each listing"
   ]
  },
  {
   "cell_type": "code",
   "execution_count": 29,
   "id": "0335a9e0",
   "metadata": {
    "scrolled": true
   },
   "outputs": [
    {
     "data": {
      "text/plain": [
       "0        42\n",
       "1        66\n",
       "2        92\n",
       "3        30\n",
       "4        21\n",
       "         ..\n",
       "12950     0\n",
       "12951     0\n",
       "12952     0\n",
       "12953     0\n",
       "12954     0\n",
       "Name: number_of_reviews, Length: 12955, dtype: int64"
      ]
     },
     "execution_count": 29,
     "metadata": {},
     "output_type": "execute_result"
    }
   ],
   "source": [
    "reviews_per_listing # each value will be 'binned'"
   ]
  },
  {
   "cell_type": "markdown",
   "id": "86bdf803",
   "metadata": {},
   "source": [
    "<br>\n",
    "As declared, the histogram should bin the number of reviews, from the smallest amount of reviews in a listing, to the maximum number of reviews in a listing rounded up to the closest hundred.\n",
    "<br><br>\n",
    "So we need to calculate some metrics, in order to determine the bins' characteristics:\n",
    "\n",
    "* We shall find the `min`number of reviews "
   ]
  },
  {
   "cell_type": "code",
   "execution_count": 30,
   "id": "0e880c12",
   "metadata": {},
   "outputs": [],
   "source": [
    "min_reviews = listings['number_of_reviews'].min()"
   ]
  },
  {
   "cell_type": "markdown",
   "id": "b67aceb4",
   "metadata": {},
   "source": [
    "* We shall find the `max` number of reviews rounded up to the closest hundred"
   ]
  },
  {
   "cell_type": "code",
   "execution_count": 31,
   "id": "4637a281",
   "metadata": {},
   "outputs": [],
   "source": [
    "max_reviews = listings['number_of_reviews'].max()"
   ]
  },
  {
   "cell_type": "code",
   "execution_count": 32,
   "id": "dddb24a7",
   "metadata": {},
   "outputs": [
    {
     "data": {
      "text/plain": [
       "865"
      ]
     },
     "execution_count": 32,
     "metadata": {},
     "output_type": "execute_result"
    }
   ],
   "source": [
    "max_reviews"
   ]
  },
  {
   "cell_type": "markdown",
   "id": "9a573e70",
   "metadata": {},
   "source": [
    "<br>\n",
    "We are going to use the `ceil()` method provided by NumPy to round the `max_reviews` up to the closest hundred.\n",
    "<br><br>"
   ]
  },
  {
   "cell_type": "code",
   "execution_count": 33,
   "id": "c1f6ca2a",
   "metadata": {},
   "outputs": [],
   "source": [
    "max_reviews_rounded = int(np.ceil(max_reviews / 100) * 100)"
   ]
  },
  {
   "cell_type": "code",
   "execution_count": 34,
   "id": "10a6131e",
   "metadata": {},
   "outputs": [
    {
     "data": {
      "text/plain": [
       "900"
      ]
     },
     "execution_count": 34,
     "metadata": {},
     "output_type": "execute_result"
    }
   ],
   "source": [
    "max_reviews_rounded"
   ]
  },
  {
   "cell_type": "markdown",
   "id": "02133a15",
   "metadata": {},
   "source": [
    "<br>\n",
    "By completing the aforementioned steps, we can proceed to the specification of the bins:\n",
    "<br><br>"
   ]
  },
  {
   "cell_type": "code",
   "execution_count": 35,
   "id": "dffb909c",
   "metadata": {},
   "outputs": [],
   "source": [
    "bins = np.arange(0, max_reviews_rounded + 100, 100)"
   ]
  },
  {
   "cell_type": "code",
   "execution_count": 36,
   "id": "4b454adf",
   "metadata": {},
   "outputs": [
    {
     "data": {
      "image/png": "[encoded data removed]",
      "text/plain": [
       "<Figure size 800x550 with 1 Axes>"
      ]
     },
     "metadata": {},
     "output_type": "display_data"
    }
   ],
   "source": [
    "plt.hist(reviews_per_listing, bins=bins, edgecolor='black',color='blue')\n",
    "\n",
    "plt.xlabel('Number of Reviews')\n",
    "plt.ylabel('Number of Listings')\n",
    "plt.title('Number of Reviews per Listing')\n",
    "\n",
    "plt.xticks(np.arange(0, max_reviews_rounded + 100, 100))\n",
    "plt.yticks(np.arange(0, 12000, 1000))\n",
    "\n",
    "plt.tight_layout()\n",
    "\n",
    "plt.show()"
   ]
  },
  {
   "cell_type": "markdown",
   "id": "14cc2590",
   "metadata": {},
   "source": [
    "<br>\n",
    "Moving forward, we need to calculate the average occupacy per listing per month.<br>\n",
    "We will be working on the `reviews` dataframe, which contains a large size of data in reference to the listings and  the reviews' dates.\n",
    "\n",
    "Our timeframe for the calculations of the averages, will be the entire year of 2022, since it's the most recent year containing full information. <br>Thus, we are filtering out outdated rows.\n",
    "<br><br>"
   ]
  },
  {
   "cell_type": "code",
   "execution_count": 37,
   "id": "3dfecfcd",
   "metadata": {},
   "outputs": [],
   "source": [
    "reviews_rcnt = reviews[(reviews['date'].dt.year == 2022)]"
   ]
  },
  {
   "cell_type": "markdown",
   "id": "f2df7680",
   "metadata": {},
   "source": [
    "How the data will look like?"
   ]
  },
  {
   "cell_type": "code",
   "execution_count": 38,
   "id": "2c1ce852",
   "metadata": {},
   "outputs": [
    {
     "data": {
      "text/html": [
       "<div>\n",
       "<style scoped>\n",
       "    .dataframe tbody tr th:only-of-type {\n",
       "        vertical-align: middle;\n",
       "    }\n",
       "\n",
       "    .dataframe tbody tr th {\n",
       "        vertical-align: top;\n",
       "    }\n",
       "\n",
       "    .dataframe thead th {\n",
       "        text-align: right;\n",
       "    }\n",
       "</style>\n",
       "<table border=\"1\" class=\"dataframe\">\n",
       "  <thead>\n",
       "    <tr style=\"text-align: right;\">\n",
       "      <th></th>\n",
       "      <th>listing_id</th>\n",
       "      <th>date</th>\n",
       "    </tr>\n",
       "  </thead>\n",
       "  <tbody>\n",
       "    <tr>\n",
       "      <th>32</th>\n",
       "      <td>10595</td>\n",
       "      <td>2022-06-02</td>\n",
       "    </tr>\n",
       "    <tr>\n",
       "      <th>33</th>\n",
       "      <td>10595</td>\n",
       "      <td>2022-07-02</td>\n",
       "    </tr>\n",
       "  </tbody>\n",
       "</table>\n",
       "</div>"
      ],
      "text/plain": [
       "    listing_id       date\n",
       "32       10595 2022-06-02\n",
       "33       10595 2022-07-02"
      ]
     },
     "execution_count": 38,
     "metadata": {},
     "output_type": "execute_result"
    }
   ],
   "source": [
    "reviews_rcnt.head(2)"
   ]
  },
  {
   "cell_type": "markdown",
   "id": "1edb27a0",
   "metadata": {},
   "source": [
    "<br>\n",
    "At first, we group our data by the `listing_id`, to proceed with the needed calculations.\n",
    "<br><br>"
   ]
  },
  {
   "cell_type": "code",
   "execution_count": 39,
   "id": "f978e0f3",
   "metadata": {},
   "outputs": [],
   "source": [
    "listing_grp = reviews_rcnt.groupby(['listing_id'])"
   ]
  },
  {
   "cell_type": "markdown",
   "id": "9f5ff358",
   "metadata": {},
   "source": [
    "Note : At this point, we assume that half of the bookings result in reviews.<br>\n",
    "In order to calculate the average occupancy per listing per month, we need to compute the following metrics.\n",
    "<br>\n",
    "\n",
    "* the average reviews per listing per month"
   ]
  },
  {
   "cell_type": "code",
   "execution_count": 40,
   "id": "62fd2a57",
   "metadata": {},
   "outputs": [
    {
     "data": {
      "text/plain": [
       "listing_id\n",
       "10595                 0.166667\n",
       "10990                 0.750000\n",
       "10993                 0.916667\n",
       "10995                 0.166667\n",
       "27262                 0.166667\n",
       "                        ...   \n",
       "784455206340476330    0.083333\n",
       "784719860855398969    0.083333\n",
       "786700736827591297    0.083333\n",
       "786844914869152030    0.083333\n",
       "788440526843150329    0.083333\n",
       "Length: 7097, dtype: float64"
      ]
     },
     "execution_count": 40,
     "metadata": {},
     "output_type": "execute_result"
    }
   ],
   "source": [
    "avg_rev_per_month = listing_grp.size() / 12\n",
    "avg_rev_per_month"
   ]
  },
  {
   "cell_type": "markdown",
   "id": "e88c5a0b",
   "metadata": {},
   "source": [
    "* the average bookings per listing per month"
   ]
  },
  {
   "cell_type": "code",
   "execution_count": 41,
   "id": "c52884ce",
   "metadata": {},
   "outputs": [
    {
     "data": {
      "text/plain": [
       "listing_id\n",
       "10595                 0.333333\n",
       "10990                 1.500000\n",
       "10993                 1.833333\n",
       "10995                 0.333333\n",
       "27262                 0.333333\n",
       "                        ...   \n",
       "784455206340476330    0.166667\n",
       "784719860855398969    0.166667\n",
       "786700736827591297    0.166667\n",
       "786844914869152030    0.166667\n",
       "788440526843150329    0.166667\n",
       "Length: 7097, dtype: float64"
      ]
     },
     "execution_count": 41,
     "metadata": {},
     "output_type": "execute_result"
    }
   ],
   "source": [
    "avg_bookings_per_month = avg_rev_per_month * 2\n",
    "avg_bookings_per_month"
   ]
  },
  {
   "cell_type": "markdown",
   "id": "9ee32e2c",
   "metadata": {},
   "source": [
    "* the average occupancy per listing per month<br>\n",
    "<br>This metric is calculated through: the number of average booked days divided by the number of bookable days.\n"
   ]
  },
  {
   "cell_type": "code",
   "execution_count": 42,
   "id": "802b5d57",
   "metadata": {},
   "outputs": [],
   "source": [
    "avg_booked_days = avg_bookings_per_month * 3 # since each booking is a three night stay"
   ]
  },
  {
   "cell_type": "code",
   "execution_count": 43,
   "id": "ed7bf697",
   "metadata": {},
   "outputs": [
    {
     "data": {
      "text/plain": [
       "listing_id\n",
       "10595                 0.033333\n",
       "10990                 0.150000\n",
       "10993                 0.183333\n",
       "10995                 0.033333\n",
       "27262                 0.033333\n",
       "                        ...   \n",
       "784455206340476330    0.016667\n",
       "784719860855398969    0.016667\n",
       "786700736827591297    0.016667\n",
       "786844914869152030    0.016667\n",
       "788440526843150329    0.016667\n",
       "Length: 7097, dtype: float64"
      ]
     },
     "execution_count": 43,
     "metadata": {},
     "output_type": "execute_result"
    }
   ],
   "source": [
    "avg_occupancy_per_month = avg_booked_days / 30\n",
    "avg_occupancy_per_month"
   ]
  },
  {
   "cell_type": "markdown",
   "id": "8266397f",
   "metadata": {},
   "source": [
    "<br><br>We are asked to find the average income per month, using the average price charged throughout all listings.\n",
    "<br><br>Since we are talking about income, we shall group our data by the hosts, in order to find the total number of<br> listings for each host as well the average price for his/her listings.\n",
    "<br>"
   ]
  },
  {
   "cell_type": "markdown",
   "id": "004e4cfd",
   "metadata": {},
   "source": [
    "Let's break down the problem: <br>In order to calculate the average income per host per month, we need to multiply the number of average booked days<br>(which we have already calculated as `avg_booked_days`) with the average prices for the host's listings.<br><br>\n",
    "At first, we group our data by the host."
   ]
  },
  {
   "cell_type": "code",
   "execution_count": 44,
   "id": "ac126877",
   "metadata": {},
   "outputs": [],
   "source": [
    "host_grp = listings.groupby(['host_id'])"
   ]
  },
  {
   "cell_type": "markdown",
   "id": "7c1f9f93",
   "metadata": {},
   "source": [
    "Then, we perform an aggregation operation upon each hosts' listings' prices."
   ]
  },
  {
   "cell_type": "code",
   "execution_count": 45,
   "id": "a9fc04ac",
   "metadata": {},
   "outputs": [],
   "source": [
    "avg_price_per_host = host_grp['price'].mean()"
   ]
  },
  {
   "cell_type": "markdown",
   "id": "66e266c3",
   "metadata": {},
   "source": [
    "At this point, we need for every host to find the average booked days per month for each and every listing owned. The aforementioned information is stored within the `avg_booked_days` Series. <br>"
   ]
  },
  {
   "cell_type": "code",
   "execution_count": 46,
   "id": "89892787",
   "metadata": {},
   "outputs": [
    {
     "data": {
      "text/plain": [
       "listing_id\n",
       "10595                 1.0\n",
       "10990                 4.5\n",
       "10993                 5.5\n",
       "10995                 1.0\n",
       "27262                 1.0\n",
       "                     ... \n",
       "784455206340476330    0.5\n",
       "784719860855398969    0.5\n",
       "786700736827591297    0.5\n",
       "786844914869152030    0.5\n",
       "788440526843150329    0.5\n",
       "Length: 7097, dtype: float64"
      ]
     },
     "execution_count": 46,
     "metadata": {},
     "output_type": "execute_result"
    }
   ],
   "source": [
    "avg_booked_days"
   ]
  },
  {
   "cell_type": "markdown",
   "id": "e49087a2",
   "metadata": {},
   "source": [
    "So, we procced to a merging operation, in order to bring the needed data alongside with the `host_id`.\n",
    "<br>\n",
    "Be patient with the long and tedious naming here, but we try to be as descriptive ass possible."
   ]
  },
  {
   "cell_type": "code",
   "execution_count": 47,
   "id": "99ac0717",
   "metadata": {},
   "outputs": [],
   "source": [
    "hosts_with_listings = host_grp['id'].value_counts().reset_index()"
   ]
  },
  {
   "cell_type": "code",
   "execution_count": 48,
   "id": "395b45b0",
   "metadata": {},
   "outputs": [
    {
     "data": {
      "text/html": [
       "<div>\n",
       "<style scoped>\n",
       "    .dataframe tbody tr th:only-of-type {\n",
       "        vertical-align: middle;\n",
       "    }\n",
       "\n",
       "    .dataframe tbody tr th {\n",
       "        vertical-align: top;\n",
       "    }\n",
       "\n",
       "    .dataframe thead th {\n",
       "        text-align: right;\n",
       "    }\n",
       "</style>\n",
       "<table border=\"1\" class=\"dataframe\">\n",
       "  <thead>\n",
       "    <tr style=\"text-align: right;\">\n",
       "      <th></th>\n",
       "      <th>host_id</th>\n",
       "      <th>id</th>\n",
       "      <th>count</th>\n",
       "    </tr>\n",
       "  </thead>\n",
       "  <tbody>\n",
       "    <tr>\n",
       "      <th>0</th>\n",
       "      <td>1805</td>\n",
       "      <td>645365999631088528</td>\n",
       "      <td>1</td>\n",
       "    </tr>\n",
       "    <tr>\n",
       "      <th>1</th>\n",
       "      <td>37177</td>\n",
       "      <td>10595</td>\n",
       "      <td>1</td>\n",
       "    </tr>\n",
       "    <tr>\n",
       "      <th>2</th>\n",
       "      <td>37177</td>\n",
       "      <td>10990</td>\n",
       "      <td>1</td>\n",
       "    </tr>\n",
       "    <tr>\n",
       "      <th>3</th>\n",
       "      <td>37177</td>\n",
       "      <td>10993</td>\n",
       "      <td>1</td>\n",
       "    </tr>\n",
       "    <tr>\n",
       "      <th>4</th>\n",
       "      <td>37177</td>\n",
       "      <td>10995</td>\n",
       "      <td>1</td>\n",
       "    </tr>\n",
       "    <tr>\n",
       "      <th>...</th>\n",
       "      <td>...</td>\n",
       "      <td>...</td>\n",
       "      <td>...</td>\n",
       "    </tr>\n",
       "    <tr>\n",
       "      <th>12950</th>\n",
       "      <td>536958637</td>\n",
       "      <td>979675488048216697</td>\n",
       "      <td>1</td>\n",
       "    </tr>\n",
       "    <tr>\n",
       "      <th>12951</th>\n",
       "      <td>537287187</td>\n",
       "      <td>981172247690878612</td>\n",
       "      <td>1</td>\n",
       "    </tr>\n",
       "    <tr>\n",
       "      <th>12952</th>\n",
       "      <td>537356944</td>\n",
       "      <td>981591481344075854</td>\n",
       "      <td>1</td>\n",
       "    </tr>\n",
       "    <tr>\n",
       "      <th>12953</th>\n",
       "      <td>537542347</td>\n",
       "      <td>982511026003390381</td>\n",
       "      <td>1</td>\n",
       "    </tr>\n",
       "    <tr>\n",
       "      <th>12954</th>\n",
       "      <td>537543834</td>\n",
       "      <td>982522813201752473</td>\n",
       "      <td>1</td>\n",
       "    </tr>\n",
       "  </tbody>\n",
       "</table>\n",
       "<p>12955 rows × 3 columns</p>\n",
       "</div>"
      ],
      "text/plain": [
       "         host_id                  id  count\n",
       "0           1805  645365999631088528      1\n",
       "1          37177               10595      1\n",
       "2          37177               10990      1\n",
       "3          37177               10993      1\n",
       "4          37177               10995      1\n",
       "...          ...                 ...    ...\n",
       "12950  536958637  979675488048216697      1\n",
       "12951  537287187  981172247690878612      1\n",
       "12952  537356944  981591481344075854      1\n",
       "12953  537542347  982511026003390381      1\n",
       "12954  537543834  982522813201752473      1\n",
       "\n",
       "[12955 rows x 3 columns]"
      ]
     },
     "execution_count": 48,
     "metadata": {},
     "output_type": "execute_result"
    }
   ],
   "source": [
    "hosts_with_listings"
   ]
  },
  {
   "cell_type": "code",
   "execution_count": 49,
   "id": "f5393547",
   "metadata": {},
   "outputs": [],
   "source": [
    "listings_with_avg_booked_days = avg_booked_days.reset_index()"
   ]
  },
  {
   "cell_type": "code",
   "execution_count": 50,
   "id": "8c74455d",
   "metadata": {},
   "outputs": [],
   "source": [
    "listings_with_avg_booked_days.rename(columns={'listing_id' : 'id', 0 : 'avg_booked_days'}, inplace=True)"
   ]
  },
  {
   "cell_type": "code",
   "execution_count": 51,
   "id": "3fc3c8bf",
   "metadata": {},
   "outputs": [
    {
     "data": {
      "text/html": [
       "<div>\n",
       "<style scoped>\n",
       "    .dataframe tbody tr th:only-of-type {\n",
       "        vertical-align: middle;\n",
       "    }\n",
       "\n",
       "    .dataframe tbody tr th {\n",
       "        vertical-align: top;\n",
       "    }\n",
       "\n",
       "    .dataframe thead th {\n",
       "        text-align: right;\n",
       "    }\n",
       "</style>\n",
       "<table border=\"1\" class=\"dataframe\">\n",
       "  <thead>\n",
       "    <tr style=\"text-align: right;\">\n",
       "      <th></th>\n",
       "      <th>id</th>\n",
       "      <th>avg_booked_days</th>\n",
       "    </tr>\n",
       "  </thead>\n",
       "  <tbody>\n",
       "    <tr>\n",
       "      <th>0</th>\n",
       "      <td>10595</td>\n",
       "      <td>1.0</td>\n",
       "    </tr>\n",
       "    <tr>\n",
       "      <th>1</th>\n",
       "      <td>10990</td>\n",
       "      <td>4.5</td>\n",
       "    </tr>\n",
       "    <tr>\n",
       "      <th>2</th>\n",
       "      <td>10993</td>\n",
       "      <td>5.5</td>\n",
       "    </tr>\n",
       "    <tr>\n",
       "      <th>3</th>\n",
       "      <td>10995</td>\n",
       "      <td>1.0</td>\n",
       "    </tr>\n",
       "    <tr>\n",
       "      <th>4</th>\n",
       "      <td>27262</td>\n",
       "      <td>1.0</td>\n",
       "    </tr>\n",
       "    <tr>\n",
       "      <th>...</th>\n",
       "      <td>...</td>\n",
       "      <td>...</td>\n",
       "    </tr>\n",
       "    <tr>\n",
       "      <th>7092</th>\n",
       "      <td>784455206340476330</td>\n",
       "      <td>0.5</td>\n",
       "    </tr>\n",
       "    <tr>\n",
       "      <th>7093</th>\n",
       "      <td>784719860855398969</td>\n",
       "      <td>0.5</td>\n",
       "    </tr>\n",
       "    <tr>\n",
       "      <th>7094</th>\n",
       "      <td>786700736827591297</td>\n",
       "      <td>0.5</td>\n",
       "    </tr>\n",
       "    <tr>\n",
       "      <th>7095</th>\n",
       "      <td>786844914869152030</td>\n",
       "      <td>0.5</td>\n",
       "    </tr>\n",
       "    <tr>\n",
       "      <th>7096</th>\n",
       "      <td>788440526843150329</td>\n",
       "      <td>0.5</td>\n",
       "    </tr>\n",
       "  </tbody>\n",
       "</table>\n",
       "<p>7097 rows × 2 columns</p>\n",
       "</div>"
      ],
      "text/plain": [
       "                      id  avg_booked_days\n",
       "0                  10595              1.0\n",
       "1                  10990              4.5\n",
       "2                  10993              5.5\n",
       "3                  10995              1.0\n",
       "4                  27262              1.0\n",
       "...                  ...              ...\n",
       "7092  784455206340476330              0.5\n",
       "7093  784719860855398969              0.5\n",
       "7094  786700736827591297              0.5\n",
       "7095  786844914869152030              0.5\n",
       "7096  788440526843150329              0.5\n",
       "\n",
       "[7097 rows x 2 columns]"
      ]
     },
     "execution_count": 51,
     "metadata": {},
     "output_type": "execute_result"
    }
   ],
   "source": [
    "listings_with_avg_booked_days"
   ]
  },
  {
   "cell_type": "code",
   "execution_count": 52,
   "id": "4d221a17",
   "metadata": {},
   "outputs": [],
   "source": [
    "hosts_with_avg_booked_days = pd.merge(hosts_with_listings, listings_with_avg_booked_days, on='id')"
   ]
  },
  {
   "cell_type": "code",
   "execution_count": 53,
   "id": "689d8b39",
   "metadata": {},
   "outputs": [
    {
     "data": {
      "text/html": [
       "<div>\n",
       "<style scoped>\n",
       "    .dataframe tbody tr th:only-of-type {\n",
       "        vertical-align: middle;\n",
       "    }\n",
       "\n",
       "    .dataframe tbody tr th {\n",
       "        vertical-align: top;\n",
       "    }\n",
       "\n",
       "    .dataframe thead th {\n",
       "        text-align: right;\n",
       "    }\n",
       "</style>\n",
       "<table border=\"1\" class=\"dataframe\">\n",
       "  <thead>\n",
       "    <tr style=\"text-align: right;\">\n",
       "      <th></th>\n",
       "      <th>host_id</th>\n",
       "      <th>id</th>\n",
       "      <th>count</th>\n",
       "      <th>avg_booked_days</th>\n",
       "    </tr>\n",
       "  </thead>\n",
       "  <tbody>\n",
       "    <tr>\n",
       "      <th>0</th>\n",
       "      <td>37177</td>\n",
       "      <td>10595</td>\n",
       "      <td>1</td>\n",
       "      <td>1.0</td>\n",
       "    </tr>\n",
       "    <tr>\n",
       "      <th>1</th>\n",
       "      <td>37177</td>\n",
       "      <td>10990</td>\n",
       "      <td>1</td>\n",
       "      <td>4.5</td>\n",
       "    </tr>\n",
       "    <tr>\n",
       "      <th>2</th>\n",
       "      <td>37177</td>\n",
       "      <td>10993</td>\n",
       "      <td>1</td>\n",
       "      <td>5.5</td>\n",
       "    </tr>\n",
       "    <tr>\n",
       "      <th>3</th>\n",
       "      <td>37177</td>\n",
       "      <td>10995</td>\n",
       "      <td>1</td>\n",
       "      <td>1.0</td>\n",
       "    </tr>\n",
       "    <tr>\n",
       "      <th>4</th>\n",
       "      <td>37177</td>\n",
       "      <td>27262</td>\n",
       "      <td>1</td>\n",
       "      <td>1.0</td>\n",
       "    </tr>\n",
       "    <tr>\n",
       "      <th>...</th>\n",
       "      <td>...</td>\n",
       "      <td>...</td>\n",
       "      <td>...</td>\n",
       "      <td>...</td>\n",
       "    </tr>\n",
       "    <tr>\n",
       "      <th>7092</th>\n",
       "      <td>512770001</td>\n",
       "      <td>41015895</td>\n",
       "      <td>1</td>\n",
       "      <td>23.0</td>\n",
       "    </tr>\n",
       "    <tr>\n",
       "      <th>7093</th>\n",
       "      <td>512770001</td>\n",
       "      <td>30580730</td>\n",
       "      <td>1</td>\n",
       "      <td>15.0</td>\n",
       "    </tr>\n",
       "    <tr>\n",
       "      <th>7094</th>\n",
       "      <td>514826474</td>\n",
       "      <td>661249348312272038</td>\n",
       "      <td>1</td>\n",
       "      <td>7.0</td>\n",
       "    </tr>\n",
       "    <tr>\n",
       "      <th>7095</th>\n",
       "      <td>514826474</td>\n",
       "      <td>653435868437972235</td>\n",
       "      <td>1</td>\n",
       "      <td>3.5</td>\n",
       "    </tr>\n",
       "    <tr>\n",
       "      <th>7096</th>\n",
       "      <td>515634956</td>\n",
       "      <td>41479174</td>\n",
       "      <td>1</td>\n",
       "      <td>20.5</td>\n",
       "    </tr>\n",
       "  </tbody>\n",
       "</table>\n",
       "<p>7097 rows × 4 columns</p>\n",
       "</div>"
      ],
      "text/plain": [
       "        host_id                  id  count  avg_booked_days\n",
       "0         37177               10595      1              1.0\n",
       "1         37177               10990      1              4.5\n",
       "2         37177               10993      1              5.5\n",
       "3         37177               10995      1              1.0\n",
       "4         37177               27262      1              1.0\n",
       "...         ...                 ...    ...              ...\n",
       "7092  512770001            41015895      1             23.0\n",
       "7093  512770001            30580730      1             15.0\n",
       "7094  514826474  661249348312272038      1              7.0\n",
       "7095  514826474  653435868437972235      1              3.5\n",
       "7096  515634956            41479174      1             20.5\n",
       "\n",
       "[7097 rows x 4 columns]"
      ]
     },
     "execution_count": 53,
     "metadata": {},
     "output_type": "execute_result"
    }
   ],
   "source": [
    "hosts_with_avg_booked_days"
   ]
  },
  {
   "cell_type": "code",
   "execution_count": 54,
   "id": "94462e6a",
   "metadata": {
    "scrolled": true
   },
   "outputs": [
    {
     "data": {
      "text/plain": [
       "host_id\n",
       "37177         13.5\n",
       "70840          1.5\n",
       "109363        31.0\n",
       "121318        40.0\n",
       "129245         1.5\n",
       "             ...  \n",
       "512584726     20.5\n",
       "512671449     38.0\n",
       "512770001    135.5\n",
       "514826474     10.5\n",
       "515634956     20.5\n",
       "Name: avg_booked_days, Length: 3373, dtype: float64"
      ]
     },
     "execution_count": 54,
     "metadata": {},
     "output_type": "execute_result"
    }
   ],
   "source": [
    "hosts_with_avg_booked_days.groupby(['host_id'])['avg_booked_days'].sum()"
   ]
  },
  {
   "cell_type": "markdown",
   "id": "235cab6a",
   "metadata": {},
   "source": [
    "<br>\n",
    "It's now time for the multiplication.\n",
    "<br>"
   ]
  },
  {
   "cell_type": "code",
   "execution_count": 55,
   "id": "21d8939e",
   "metadata": {},
   "outputs": [],
   "source": [
    "hosts_with_avg_booked_days_and_avg_prices = pd.merge(hosts_with_avg_booked_days, avg_price_per_host, on='host_id')"
   ]
  },
  {
   "cell_type": "code",
   "execution_count": 56,
   "id": "2cd4a3a6",
   "metadata": {},
   "outputs": [
    {
     "data": {
      "text/html": [
       "<div>\n",
       "<style scoped>\n",
       "    .dataframe tbody tr th:only-of-type {\n",
       "        vertical-align: middle;\n",
       "    }\n",
       "\n",
       "    .dataframe tbody tr th {\n",
       "        vertical-align: top;\n",
       "    }\n",
       "\n",
       "    .dataframe thead th {\n",
       "        text-align: right;\n",
       "    }\n",
       "</style>\n",
       "<table border=\"1\" class=\"dataframe\">\n",
       "  <thead>\n",
       "    <tr style=\"text-align: right;\">\n",
       "      <th></th>\n",
       "      <th>host_id</th>\n",
       "      <th>id</th>\n",
       "      <th>count</th>\n",
       "      <th>avg_booked_days</th>\n",
       "      <th>price</th>\n",
       "    </tr>\n",
       "  </thead>\n",
       "  <tbody>\n",
       "    <tr>\n",
       "      <th>0</th>\n",
       "      <td>37177</td>\n",
       "      <td>10595</td>\n",
       "      <td>1</td>\n",
       "      <td>1.0</td>\n",
       "      <td>82.285714</td>\n",
       "    </tr>\n",
       "    <tr>\n",
       "      <th>1</th>\n",
       "      <td>37177</td>\n",
       "      <td>10990</td>\n",
       "      <td>1</td>\n",
       "      <td>4.5</td>\n",
       "      <td>82.285714</td>\n",
       "    </tr>\n",
       "    <tr>\n",
       "      <th>2</th>\n",
       "      <td>37177</td>\n",
       "      <td>10993</td>\n",
       "      <td>1</td>\n",
       "      <td>5.5</td>\n",
       "      <td>82.285714</td>\n",
       "    </tr>\n",
       "    <tr>\n",
       "      <th>3</th>\n",
       "      <td>37177</td>\n",
       "      <td>10995</td>\n",
       "      <td>1</td>\n",
       "      <td>1.0</td>\n",
       "      <td>82.285714</td>\n",
       "    </tr>\n",
       "    <tr>\n",
       "      <th>4</th>\n",
       "      <td>37177</td>\n",
       "      <td>27262</td>\n",
       "      <td>1</td>\n",
       "      <td>1.0</td>\n",
       "      <td>82.285714</td>\n",
       "    </tr>\n",
       "    <tr>\n",
       "      <th>...</th>\n",
       "      <td>...</td>\n",
       "      <td>...</td>\n",
       "      <td>...</td>\n",
       "      <td>...</td>\n",
       "      <td>...</td>\n",
       "    </tr>\n",
       "    <tr>\n",
       "      <th>7092</th>\n",
       "      <td>512770001</td>\n",
       "      <td>41015895</td>\n",
       "      <td>1</td>\n",
       "      <td>23.0</td>\n",
       "      <td>58.800000</td>\n",
       "    </tr>\n",
       "    <tr>\n",
       "      <th>7093</th>\n",
       "      <td>512770001</td>\n",
       "      <td>30580730</td>\n",
       "      <td>1</td>\n",
       "      <td>15.0</td>\n",
       "      <td>58.800000</td>\n",
       "    </tr>\n",
       "    <tr>\n",
       "      <th>7094</th>\n",
       "      <td>514826474</td>\n",
       "      <td>661249348312272038</td>\n",
       "      <td>1</td>\n",
       "      <td>7.0</td>\n",
       "      <td>72.000000</td>\n",
       "    </tr>\n",
       "    <tr>\n",
       "      <th>7095</th>\n",
       "      <td>514826474</td>\n",
       "      <td>653435868437972235</td>\n",
       "      <td>1</td>\n",
       "      <td>3.5</td>\n",
       "      <td>72.000000</td>\n",
       "    </tr>\n",
       "    <tr>\n",
       "      <th>7096</th>\n",
       "      <td>515634956</td>\n",
       "      <td>41479174</td>\n",
       "      <td>1</td>\n",
       "      <td>20.5</td>\n",
       "      <td>72.000000</td>\n",
       "    </tr>\n",
       "  </tbody>\n",
       "</table>\n",
       "<p>7097 rows × 5 columns</p>\n",
       "</div>"
      ],
      "text/plain": [
       "        host_id                  id  count  avg_booked_days      price\n",
       "0         37177               10595      1              1.0  82.285714\n",
       "1         37177               10990      1              4.5  82.285714\n",
       "2         37177               10993      1              5.5  82.285714\n",
       "3         37177               10995      1              1.0  82.285714\n",
       "4         37177               27262      1              1.0  82.285714\n",
       "...         ...                 ...    ...              ...        ...\n",
       "7092  512770001            41015895      1             23.0  58.800000\n",
       "7093  512770001            30580730      1             15.0  58.800000\n",
       "7094  514826474  661249348312272038      1              7.0  72.000000\n",
       "7095  514826474  653435868437972235      1              3.5  72.000000\n",
       "7096  515634956            41479174      1             20.5  72.000000\n",
       "\n",
       "[7097 rows x 5 columns]"
      ]
     },
     "execution_count": 56,
     "metadata": {},
     "output_type": "execute_result"
    }
   ],
   "source": [
    "hosts_with_avg_booked_days_and_avg_prices"
   ]
  },
  {
   "cell_type": "code",
   "execution_count": 57,
   "id": "000c8714",
   "metadata": {
    "scrolled": true
   },
   "outputs": [],
   "source": [
    "result = hosts_with_avg_booked_days_and_avg_prices.groupby('host_id').apply(lambda x: (x['avg_booked_days'] * x['price']).sum()).reset_index(name='result')"
   ]
  },
  {
   "cell_type": "code",
   "execution_count": 58,
   "id": "3563ce79",
   "metadata": {},
   "outputs": [
    {
     "data": {
      "text/html": [
       "<div>\n",
       "<style scoped>\n",
       "    .dataframe tbody tr th:only-of-type {\n",
       "        vertical-align: middle;\n",
       "    }\n",
       "\n",
       "    .dataframe tbody tr th {\n",
       "        vertical-align: top;\n",
       "    }\n",
       "\n",
       "    .dataframe thead th {\n",
       "        text-align: right;\n",
       "    }\n",
       "</style>\n",
       "<table border=\"1\" class=\"dataframe\">\n",
       "  <thead>\n",
       "    <tr style=\"text-align: right;\">\n",
       "      <th></th>\n",
       "      <th>host_id</th>\n",
       "      <th>result</th>\n",
       "    </tr>\n",
       "  </thead>\n",
       "  <tbody>\n",
       "    <tr>\n",
       "      <th>0</th>\n",
       "      <td>37177</td>\n",
       "      <td>1110.857143</td>\n",
       "    </tr>\n",
       "    <tr>\n",
       "      <th>1</th>\n",
       "      <td>70840</td>\n",
       "      <td>69.000000</td>\n",
       "    </tr>\n",
       "    <tr>\n",
       "      <th>2</th>\n",
       "      <td>109363</td>\n",
       "      <td>1581.000000</td>\n",
       "    </tr>\n",
       "    <tr>\n",
       "      <th>3</th>\n",
       "      <td>121318</td>\n",
       "      <td>9340.000000</td>\n",
       "    </tr>\n",
       "    <tr>\n",
       "      <th>4</th>\n",
       "      <td>129245</td>\n",
       "      <td>85.500000</td>\n",
       "    </tr>\n",
       "    <tr>\n",
       "      <th>...</th>\n",
       "      <td>...</td>\n",
       "      <td>...</td>\n",
       "    </tr>\n",
       "    <tr>\n",
       "      <th>3368</th>\n",
       "      <td>512584726</td>\n",
       "      <td>1045.500000</td>\n",
       "    </tr>\n",
       "    <tr>\n",
       "      <th>3369</th>\n",
       "      <td>512671449</td>\n",
       "      <td>3017.200000</td>\n",
       "    </tr>\n",
       "    <tr>\n",
       "      <th>3370</th>\n",
       "      <td>512770001</td>\n",
       "      <td>7967.400000</td>\n",
       "    </tr>\n",
       "    <tr>\n",
       "      <th>3371</th>\n",
       "      <td>514826474</td>\n",
       "      <td>756.000000</td>\n",
       "    </tr>\n",
       "    <tr>\n",
       "      <th>3372</th>\n",
       "      <td>515634956</td>\n",
       "      <td>1476.000000</td>\n",
       "    </tr>\n",
       "  </tbody>\n",
       "</table>\n",
       "<p>3373 rows × 2 columns</p>\n",
       "</div>"
      ],
      "text/plain": [
       "        host_id       result\n",
       "0         37177  1110.857143\n",
       "1         70840    69.000000\n",
       "2        109363  1581.000000\n",
       "3        121318  9340.000000\n",
       "4        129245    85.500000\n",
       "...         ...          ...\n",
       "3368  512584726  1045.500000\n",
       "3369  512671449  3017.200000\n",
       "3370  512770001  7967.400000\n",
       "3371  514826474   756.000000\n",
       "3372  515634956  1476.000000\n",
       "\n",
       "[3373 rows x 2 columns]"
      ]
     },
     "execution_count": 58,
     "metadata": {},
     "output_type": "execute_result"
    }
   ],
   "source": [
    "result # the average income per host per month"
   ]
  },
  {
   "cell_type": "markdown",
   "id": "d7522815",
   "metadata": {},
   "source": [
    "## Listings per Room Type"
   ]
  },
  {
   "cell_type": "markdown",
   "id": "c021a526",
   "metadata": {},
   "source": [
    "Moving on, we wish to show the number of listings per room type.\n",
    "<br>\n",
    "That being the case, we need at first to group our data in `listings` dataframe by the `room_type`."
   ]
  },
  {
   "cell_type": "code",
   "execution_count": 59,
   "id": "5ecd809e",
   "metadata": {},
   "outputs": [],
   "source": [
    "room_grp = listings.groupby(['room_type'])"
   ]
  },
  {
   "cell_type": "markdown",
   "id": "9e5fae96",
   "metadata": {},
   "source": [
    "<br>\n",
    "We present the number of listings per room type in both:\n",
    "\n",
    "* absolute numbers and"
   ]
  },
  {
   "cell_type": "code",
   "execution_count": 60,
   "id": "6a8a88d9",
   "metadata": {},
   "outputs": [
    {
     "data": {
      "text/plain": [
       "room_type\n",
       "Entire home/apt    11652\n",
       "Hotel room           105\n",
       "Private room        1113\n",
       "Shared room           85\n",
       "Name: id, dtype: int64"
      ]
     },
     "execution_count": 60,
     "metadata": {},
     "output_type": "execute_result"
    }
   ],
   "source": [
    "room_grp['id'].count().abs()"
   ]
  },
  {
   "cell_type": "markdown",
   "id": "e79ee530",
   "metadata": {},
   "source": [
    "* percentages"
   ]
  },
  {
   "cell_type": "code",
   "execution_count": 61,
   "id": "8036f3ed",
   "metadata": {},
   "outputs": [
    {
     "data": {
      "text/plain": [
       "room_type\n",
       "Entire home/apt    89.942107\n",
       "Hotel room          0.810498\n",
       "Private room        8.591277\n",
       "Shared room         0.656117\n",
       "Name: id, dtype: float64"
      ]
     },
     "execution_count": 61,
     "metadata": {},
     "output_type": "execute_result"
    }
   ],
   "source": [
    "(room_grp['id'].count() / len(listings.id)) * 100"
   ]
  },
  {
   "cell_type": "markdown",
   "id": "9b804e4a",
   "metadata": {},
   "source": [
    "<br>\n",
    "Furthermore, we need to show the number of listings per neighrbourhood and room type.\n",
    "<br><br>"
   ]
  },
  {
   "cell_type": "code",
   "execution_count": 62,
   "id": "bf01415f",
   "metadata": {},
   "outputs": [],
   "source": [
    "neighbour_room_grp = listings.groupby(['neighbourhood', 'room_type'])"
   ]
  },
  {
   "cell_type": "code",
   "execution_count": 63,
   "id": "419778f6",
   "metadata": {},
   "outputs": [
    {
     "data": {
      "text/plain": [
       "neighbourhood                     room_type      \n",
       "1Ο ΝΕΚΡΟΤΑΦΕΙΟ                    Entire home/apt     55\n",
       "ΑΓΙΟΣ ΕΛΕΥΘΕΡΙΟΣ                  Entire home/apt     33\n",
       "                                  Private room         5\n",
       "ΑΓΙΟΣ ΚΩΝΣΤΑΝΤΙΝΟΣ-ΠΛΑΤΕΙΑ ΒΑΘΗΣ  Entire home/apt    686\n",
       "                                  Hotel room           4\n",
       "                                                    ... \n",
       "ΣΤΑΔΙΟ                            Private room        11\n",
       "ΣΤΑΘΜΟΣ ΛΑΡΙΣΗΣ                   Entire home/apt     73\n",
       "                                  Hotel room           4\n",
       "                                  Private room         4\n",
       "                                  Shared room          4\n",
       "Name: id, Length: 111, dtype: int64"
      ]
     },
     "execution_count": 63,
     "metadata": {},
     "output_type": "execute_result"
    }
   ],
   "source": [
    "neighbour_room_grp['id'].count()"
   ]
  },
  {
   "cell_type": "markdown",
   "id": "aa6694d3",
   "metadata": {},
   "source": [
    "## Prices per Day\n",
    "\n"
   ]
  },
  {
   "cell_type": "markdown",
   "id": "2b170d66",
   "metadata": {},
   "source": [
    "We are asked to create a table with the average price per listing per day.<br>\n",
    "While working on the `calendar`dataframe we observe that the prices are not registered in a numeric type, but the type of them is object.<br> So, we proceed to the necessary data casting operations."
   ]
  },
  {
   "cell_type": "code",
   "execution_count": 64,
   "id": "a4e9468e",
   "metadata": {},
   "outputs": [],
   "source": [
    "calendar['price'] = calendar['price'].str.replace('$', '').str.replace(',', '').astype(float)"
   ]
  },
  {
   "cell_type": "markdown",
   "id": "b99fac09",
   "metadata": {},
   "source": [
    "<br>\n",
    "Moving on, we group our data by the id of the listings, and then assign the average prices to a table\n",
    "<br><br>"
   ]
  },
  {
   "cell_type": "code",
   "execution_count": 65,
   "id": "91f724a9",
   "metadata": {},
   "outputs": [],
   "source": [
    "listing_groups = calendar.groupby(['listing_id'])"
   ]
  },
  {
   "cell_type": "code",
   "execution_count": 66,
   "id": "27d1c761",
   "metadata": {},
   "outputs": [],
   "source": [
    "avg_prices_per_day = listing_groups['price'].mean() # since each listing stores values for 365 days"
   ]
  },
  {
   "cell_type": "code",
   "execution_count": 67,
   "id": "4ee8cf86",
   "metadata": {},
   "outputs": [
    {
     "data": {
      "text/plain": [
       "listing_id\n",
       "10595                 262.602740\n",
       "10990                  72.260274\n",
       "10993                  59.397260\n",
       "10995                  74.978082\n",
       "27262                  71.315068\n",
       "                         ...    \n",
       "983937080532919737     59.539726\n",
       "984280014002068815    155.000000\n",
       "984280014714317399    162.000000\n",
       "984280015206592938    169.000000\n",
       "984289252638695828     16.054795\n",
       "Name: price, Length: 12955, dtype: float64"
      ]
     },
     "execution_count": 67,
     "metadata": {},
     "output_type": "execute_result"
    }
   ],
   "source": [
    "avg_prices_per_day"
   ]
  },
  {
   "cell_type": "markdown",
   "id": "1143569d",
   "metadata": {},
   "source": [
    "<br><br>\n",
    "It's time for visualization. We demonstrate  the distribution of the listings into the different average (per day) price ranges, via a histogram diagram.\n",
    "<br><br>"
   ]
  },
  {
   "cell_type": "code",
   "execution_count": 68,
   "id": "591d3ffe",
   "metadata": {},
   "outputs": [
    {
     "data": {
      "image/png": "[encoded data removed]",
      "text/plain": [
       "<Figure size 800x550 with 1 Axes>"
      ]
     },
     "metadata": {},
     "output_type": "display_data"
    }
   ],
   "source": [
    "plt.hist(avg_prices_per_day, bins=[0, 50, 100, 150, 200, 250], edgecolor='black', color='skyblue')\n",
    "plt.title('Price Distribution')\n",
    "plt.xlabel('Price Range')\n",
    "plt.ylabel('Number of Listings')\n",
    "plt.xticks([25, 75, 125, 175, 225])\n",
    "plt.grid(axis='y', linestyle='--', alpha=0.7)"
   ]
  },
  {
   "cell_type": "markdown",
   "id": "7ffa1006",
   "metadata": {},
   "source": [
    "## Listings per Host"
   ]
  },
  {
   "cell_type": "markdown",
   "id": "4931c880",
   "metadata": {},
   "source": [
    "Our next task is to create a table with the number of listings per host, in descending order and then visualize it."
   ]
  },
  {
   "cell_type": "markdown",
   "id": "5b5235c8",
   "metadata": {},
   "source": [
    "We are making use of the existing DataFrame GroupBy object `host_grp` anc count the number of listings for each host"
   ]
  },
  {
   "cell_type": "code",
   "execution_count": 69,
   "id": "7a70d5c9",
   "metadata": {},
   "outputs": [],
   "source": [
    "listings_per_host = host_grp.size().sort_values(ascending=False)"
   ]
  },
  {
   "cell_type": "markdown",
   "id": "9070f617",
   "metadata": {},
   "source": [
    "We make some further adjustments to the table."
   ]
  },
  {
   "cell_type": "code",
   "execution_count": 70,
   "id": "80347b8b",
   "metadata": {},
   "outputs": [],
   "source": [
    "listings_per_host = listings_per_host.reset_index()"
   ]
  },
  {
   "cell_type": "code",
   "execution_count": 71,
   "id": "40f4dc44",
   "metadata": {},
   "outputs": [],
   "source": [
    "listings_per_host.rename(columns={0 : 'counts'}, inplace=True)"
   ]
  },
  {
   "cell_type": "code",
   "execution_count": 72,
   "id": "d5a493de",
   "metadata": {},
   "outputs": [
    {
     "data": {
      "text/html": [
       "<div>\n",
       "<style scoped>\n",
       "    .dataframe tbody tr th:only-of-type {\n",
       "        vertical-align: middle;\n",
       "    }\n",
       "\n",
       "    .dataframe tbody tr th {\n",
       "        vertical-align: top;\n",
       "    }\n",
       "\n",
       "    .dataframe thead th {\n",
       "        text-align: right;\n",
       "    }\n",
       "</style>\n",
       "<table border=\"1\" class=\"dataframe\">\n",
       "  <thead>\n",
       "    <tr style=\"text-align: right;\">\n",
       "      <th></th>\n",
       "      <th>host_id</th>\n",
       "      <th>counts</th>\n",
       "    </tr>\n",
       "  </thead>\n",
       "  <tbody>\n",
       "    <tr>\n",
       "      <th>0</th>\n",
       "      <td>20104194</td>\n",
       "      <td>114</td>\n",
       "    </tr>\n",
       "    <tr>\n",
       "      <th>1</th>\n",
       "      <td>113548208</td>\n",
       "      <td>88</td>\n",
       "    </tr>\n",
       "    <tr>\n",
       "      <th>2</th>\n",
       "      <td>90390850</td>\n",
       "      <td>78</td>\n",
       "    </tr>\n",
       "    <tr>\n",
       "      <th>3</th>\n",
       "      <td>748818</td>\n",
       "      <td>74</td>\n",
       "    </tr>\n",
       "    <tr>\n",
       "      <th>4</th>\n",
       "      <td>47267002</td>\n",
       "      <td>61</td>\n",
       "    </tr>\n",
       "  </tbody>\n",
       "</table>\n",
       "</div>"
      ],
      "text/plain": [
       "     host_id  counts\n",
       "0   20104194     114\n",
       "1  113548208      88\n",
       "2   90390850      78\n",
       "3     748818      74\n",
       "4   47267002      61"
      ]
     },
     "execution_count": 72,
     "metadata": {},
     "output_type": "execute_result"
    }
   ],
   "source": [
    "listings_per_host.head(5)"
   ]
  },
  {
   "cell_type": "markdown",
   "id": "b2f96a30",
   "metadata": {},
   "source": [
    "<br>\n",
    "We are now ready to visualize the the `listings_per_host` table in:\n",
    "\n",
    "* linear scale"
   ]
  },
  {
   "cell_type": "code",
   "execution_count": 73,
   "id": "a1bcf59b",
   "metadata": {},
   "outputs": [
    {
     "data": {
      "image/png": "[encoded data removed]",
      "text/plain": [
       "<Figure size 800x550 with 1 Axes>"
      ]
     },
     "metadata": {},
     "output_type": "display_data"
    }
   ],
   "source": [
    "plt.plot(listings_per_host.index + 1, listings_per_host['counts'], marker='o', linestyle='-', markersize=8)\n",
    "\n",
    "plt.title(\"Host Ranking on a Number of Listings Basis\")\n",
    "plt.xlabel(\"Rank\")\n",
    "plt.ylabel(\"Number of Listings\")\n",
    "\n",
    "plt.grid(True)\n",
    "plt.tight_layout()"
   ]
  },
  {
   "cell_type": "code",
   "execution_count": 74,
   "id": "e86d6851",
   "metadata": {},
   "outputs": [
    {
     "data": {
      "image/png": "[encoded data removed]",
      "text/plain": [
       "<Figure size 800x550 with 1 Axes>"
      ]
     },
     "metadata": {},
     "output_type": "display_data"
    }
   ],
   "source": [
    "plt.plot(listings_per_host.index + 1, listings_per_host['counts'], marker='o', linestyle='-', markersize=8)\n",
    "\n",
    "plt.title(\"Host Ranking on a Number of Listings Basis\")\n",
    "plt.xlabel(\"Host\")\n",
    "plt.ylabel(\"Number of Listings\")\n",
    "\n",
    "plt.grid(True)\n",
    "plt.tight_layout()\n",
    "\n",
    "plt.xscale('log')"
   ]
  },
  {
   "cell_type": "markdown",
   "id": "d8552e06",
   "metadata": {},
   "source": [
    "## Visualize Athen's listings with Folium"
   ]
  },
  {
   "cell_type": "markdown",
   "id": "242c39aa",
   "metadata": {},
   "source": [
    "Our final task is to draw an interactive map, so we can show the listings ovelayed on Athens and for that purpose we are going to use Folium library.<br>"
   ]
  },
  {
   "cell_type": "markdown",
   "id": "049ae798",
   "metadata": {},
   "source": [
    "At first we instantiate a map object for a given location, that being Athen's coordinates"
   ]
  },
  {
   "cell_type": "code",
   "execution_count": 75,
   "id": "63320add",
   "metadata": {},
   "outputs": [],
   "source": [
    "athens_coordinates = [37.9838, 23.7275]\n",
    "\n",
    "m = folium.Map(location=athens_coordinates, zoom_start=12, max_zoom=15)"
   ]
  },
  {
   "cell_type": "markdown",
   "id": "8cf162ca",
   "metadata": {},
   "source": [
    "<br><br>\n",
    "Proceeding, we instantiate one single marker cluster to map.Using marker clusters, provides us a convenient way of demonstrating markers<br> in groups and helps us avoid overwhelming map info display. <br><br>Essentially, marker clusters are designed to group multiple map markers that are close to each other into a single cluster marker. <br><br>Furthermore, they indicate how many markers are present in that location.\n",
    "<br><br>"
   ]
  },
  {
   "cell_type": "code",
   "execution_count": 76,
   "id": "ade3c414",
   "metadata": {},
   "outputs": [],
   "source": [
    "marker_cluster = MarkerCluster().add_to(m)"
   ]
  },
  {
   "cell_type": "markdown",
   "id": "b04351e0",
   "metadata": {},
   "source": [
    "As we need to shape our map with multiple information (such as the listing's name, or the pricing data), we iterate through the values of `listings` dataframe, that provide the desired data.\n",
    "\n",
    "* we assign to a `description` variable a formatted string, that collects info from the dataframe and will customize the description of the marker's pop-up\n",
    "\n",
    "* eventually, we set the marker's arguments properly, so after the loop completes, each and every marker will have been succesfully registered and displayed in tha map"
   ]
  },
  {
   "cell_type": "code",
   "execution_count": 77,
   "id": "4fd56d95",
   "metadata": {},
   "outputs": [],
   "source": [
    "for index, row in listings.iterrows():\n",
    "    description = f\"<strong>{row['name']}</strong><br>Host: {row['host_name']}<br>Price: ${row['price']} per night\"\n",
    "    folium.Marker([row['latitude'], row['longitude']], tooltip=row['name'], popup=description).add_to(marker_cluster)"
   ]
  },
  {
   "cell_type": "markdown",
   "id": "8d357241",
   "metadata": {},
   "source": [
    "As plenty resources will be committed for the map to open smoothly, we save it in an external HTML file."
   ]
  },
  {
   "cell_type": "code",
   "execution_count": 78,
   "id": "4500aac8",
   "metadata": {},
   "outputs": [],
   "source": [
    "m.save('airbnb_athens.html')"
   ]
  }
 ],
 "metadata": {
  "kernelspec": {
   "display_name": "Python 3 (ipykernel)",
   "language": "python",
   "name": "python3"
  },
  "language_info": {
   "codemirror_mode": {
    "name": "ipython",
    "version": 3
   },
   "file_extension": ".py",
   "mimetype": "text/x-python",
   "name": "python",
   "nbconvert_exporter": "python",
   "pygments_lexer": "ipython3",
   "version": "3.10.13"
  }
 },
 "nbformat": 4,
 "nbformat_minor": 5
}
